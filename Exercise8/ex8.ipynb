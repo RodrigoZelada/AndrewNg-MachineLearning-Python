{
 "cells": [
  {
   "cell_type": "code",
   "execution_count": 1,
   "metadata": {},
   "outputs": [],
   "source": [
    "import numpy as np\n",
    "import os\n",
    "import matplotlib.pyplot as plt\n",
    "from scipy import optimize\n",
    "import scipy.io"
   ]
  },
  {
   "cell_type": "markdown",
   "metadata": {},
   "source": [
    "# 1. Anomaly detection"
   ]
  },
  {
   "cell_type": "markdown",
   "metadata": {},
   "source": [
    "### 1.1 Reading the data and plotting"
   ]
  },
  {
   "cell_type": "code",
   "execution_count": 2,
   "metadata": {
    "scrolled": true
   },
   "outputs": [
    {
     "data": {
      "text/plain": [
       "['ex8data1.mat',\n",
       " 'ex8data2.mat',\n",
       " 'ex8_movieParams.mat',\n",
       " 'ex8_movies.mat',\n",
       " 'movie_ids.txt']"
      ]
     },
     "execution_count": 2,
     "metadata": {},
     "output_type": "execute_result"
    }
   ],
   "source": [
    "os.listdir('Data/')"
   ]
  },
  {
   "cell_type": "code",
   "execution_count": 3,
   "metadata": {},
   "outputs": [
    {
     "data": {
      "text/plain": [
       "dict_keys(['__header__', '__version__', '__globals__', 'X', 'Xval', 'yval'])"
      ]
     },
     "execution_count": 3,
     "metadata": {},
     "output_type": "execute_result"
    }
   ],
   "source": [
    "data1 = scipy.io.loadmat('Data/ex8data1.mat')\n",
    "data1.keys()"
   ]
  },
  {
   "cell_type": "code",
   "execution_count": 4,
   "metadata": {},
   "outputs": [],
   "source": [
    "X = data1['X']\n",
    "Xval = data1['Xval']\n",
    "yval = data1['yval']\n",
    "yval = yval[:,0] #to work with arrays"
   ]
  },
  {
   "cell_type": "code",
   "execution_count": 5,
   "metadata": {},
   "outputs": [
    {
     "data": {
      "text/plain": [
       "(0.0, 30.0)"
      ]
     },
     "execution_count": 5,
     "metadata": {},
     "output_type": "execute_result"
    },
    {
     "data": {
      "image/png": "[encoded data removed]",
      "text/plain": [
       "<Figure size 432x288 with 1 Axes>"
      ]
     },
     "metadata": {
      "needs_background": "light"
     },
     "output_type": "display_data"
    }
   ],
   "source": [
    "plt.plot(X[:,0],X[:,1],'bx')\n",
    "plt.xlabel('Latency (ms)')\n",
    "plt.ylabel('Throughput (mb/s)')\n",
    "plt.xlim(0, 30)\n",
    "plt.ylim(0, 30)"
   ]
  },
  {
   "cell_type": "markdown",
   "metadata": {},
   "source": [
    "### 1.2 Estimating parameters for a Gaussian"
   ]
  },
  {
   "cell_type": "markdown",
   "metadata": {},
   "source": [
    "$$\\mu = \\frac{1}{m} \\sum_{i=1} ^m x^{(i)}$$\n",
    "$$\\sigma ^2 = \\frac{1}{m} \\sum_{i=1} ^m (x^{(i)} - \\mu).^2$$"
   ]
  },
  {
   "cell_type": "code",
   "execution_count": 6,
   "metadata": {},
   "outputs": [],
   "source": [
    "def estimateGaussian(X):\n",
    "    mu = np.mean(X, axis=0) #axis=0 because we take mean by rows\n",
    "    sigma_square = np.std(X, axis=0)**2 #np.mean((X - mu )**2, axis=0)\n",
    "    return mu, sigma_square"
   ]
  },
  {
   "cell_type": "code",
   "execution_count": 7,
   "metadata": {},
   "outputs": [
    {
     "data": {
      "text/plain": [
       "(array([14.11222578, 14.99771051]), array([1.83263141, 1.70974533]))"
      ]
     },
     "execution_count": 7,
     "metadata": {},
     "output_type": "execute_result"
    }
   ],
   "source": [
    "mu, s = estimateGaussian(X)\n",
    "mu, s"
   ]
  },
  {
   "cell_type": "markdown",
   "metadata": {},
   "source": [
    "$$P(x; \\mu, \\sigma) = \\frac{1}{\\sqrt{2 \\pi \\sigma^2}} exp\\left(\\frac{-(x - \\mu)^2}{2\\sigma^2}\\right)$$"
   ]
  },
  {
   "cell_type": "code",
   "execution_count": 8,
   "metadata": {},
   "outputs": [],
   "source": [
    "def GaussianProbability(X, mu, sigma_square):\n",
    "    P = (1/np.sqrt(2*np.pi*sigma_square))*np.exp(- (X - mu)**2/ (2*sigma_square)) #P is m x n\n",
    "    P = np.prod(P, axis=1) #P is m x 1 (P_1 x P_2 x ... x P_n)\n",
    "    return P"
   ]
  },
  {
   "cell_type": "code",
   "execution_count": 9,
   "metadata": {
    "scrolled": true
   },
   "outputs": [
    {
     "data": {
      "text/plain": [
       "array([6.47082850e-02, 5.03041697e-02, 7.24503459e-02, 5.03157451e-02,\n",
       "       6.36849657e-02, 4.24583228e-02, 4.79094514e-02, 3.65111476e-02,\n",
       "       1.86657981e-02, 5.06882606e-02, 2.65150875e-02, 8.47130185e-02,\n",
       "       7.10473222e-02, 6.95531914e-02, 3.77788348e-02, 8.27029589e-02,\n",
       "       8.77921221e-02, 8.68763043e-02, 6.91708642e-02, 9.73470177e-03,\n",
       "       7.57066464e-02, 8.83768074e-02, 3.74100482e-02, 8.71375788e-02,\n",
       "       4.12630362e-02, 2.48800242e-02, 7.90901300e-02, 7.59228904e-02,\n",
       "       8.08257085e-02, 7.66395995e-02, 5.01173495e-02, 8.80498288e-02,\n",
       "       6.17880844e-02, 5.96234469e-02, 2.09024063e-02, 4.57936991e-02,\n",
       "       3.53418180e-02, 8.21286529e-02, 7.24325306e-02, 8.49788605e-02,\n",
       "       6.41878342e-02, 6.64784465e-02, 8.37566936e-02, 8.57620375e-02,\n",
       "       6.94628046e-02, 5.88478150e-02, 3.30652955e-02, 7.03092647e-02,\n",
       "       7.77494497e-02, 3.59889069e-02, 7.34972804e-02, 7.56209579e-02,\n",
       "       8.54690789e-02, 8.97861557e-02, 7.58702322e-02, 8.44453776e-02,\n",
       "       8.67966985e-02, 8.93502380e-02, 7.83008864e-02, 6.09965756e-02,\n",
       "       6.89175589e-02, 8.93992597e-02, 2.35608690e-02, 3.92180893e-02,\n",
       "       3.46818928e-02, 7.05817501e-02, 3.38981997e-02, 8.09065373e-02,\n",
       "       2.39333067e-02, 9.17533723e-03, 8.29477945e-02, 1.75044472e-02,\n",
       "       7.80956770e-02, 4.62408115e-02, 8.25384807e-02, 8.70597545e-02,\n",
       "       6.96496648e-02, 8.90359495e-02, 3.07209353e-02, 7.25514090e-02,\n",
       "       8.71861744e-02, 5.01965909e-02, 8.49048764e-02, 5.24503374e-02,\n",
       "       4.75491419e-02, 7.92049351e-02, 7.72518330e-02, 7.18201958e-02,\n",
       "       8.64490053e-02, 7.91849836e-02, 6.98403556e-02, 7.62494949e-02,\n",
       "       8.84846100e-02, 3.87561833e-02, 8.33098641e-02, 3.45751484e-02,\n",
       "       3.04330917e-02, 6.51014398e-02, 4.36836225e-02, 8.33536090e-02,\n",
       "       3.61489534e-02, 5.41789722e-02, 5.33747246e-02, 4.97008171e-02,\n",
       "       5.19186366e-02, 8.49078425e-02, 3.25980999e-02, 6.92838156e-02,\n",
       "       2.81799996e-02, 9.55468031e-03, 8.21338348e-02, 2.87874996e-02,\n",
       "       6.26980710e-02, 2.12114105e-02, 8.54838989e-03, 3.38188192e-02,\n",
       "       6.01939824e-02, 4.35378786e-02, 8.82988107e-02, 2.04600677e-02,\n",
       "       5.74104147e-02, 7.88401397e-02, 8.74895929e-02, 8.44925214e-02,\n",
       "       3.89405649e-02, 6.80826308e-02, 5.11048023e-02, 7.03450624e-02,\n",
       "       2.85075297e-02, 8.84936640e-02, 6.64815402e-02, 3.54299676e-02,\n",
       "       7.49806138e-02, 5.56428307e-02, 3.42538925e-02, 8.62829601e-02,\n",
       "       7.10118123e-02, 6.89157819e-02, 7.48864963e-02, 6.07928456e-02,\n",
       "       4.91999300e-02, 8.93539102e-02, 1.61169918e-02, 4.88227655e-02,\n",
       "       8.29938273e-02, 1.94880758e-02, 5.57741632e-02, 4.63386487e-03,\n",
       "       5.89151003e-02, 8.95263743e-02, 4.65419833e-02, 2.96113427e-02,\n",
       "       6.38166597e-02, 8.38675807e-02, 4.74575734e-02, 5.73295835e-02,\n",
       "       8.84677458e-02, 5.16885883e-02, 6.29679948e-02, 8.82083034e-02,\n",
       "       8.24624760e-02, 3.15601090e-02, 4.61456177e-02, 8.34677831e-02,\n",
       "       7.04380657e-02, 4.34391366e-02, 8.06417674e-02, 8.62620138e-02,\n",
       "       2.24888873e-02, 7.26226172e-02, 2.61792634e-03, 8.88947695e-02,\n",
       "       3.89573492e-02, 6.12731079e-02, 5.03082382e-02, 7.05100449e-02,\n",
       "       7.78937702e-02, 8.92821923e-02, 5.16601650e-02, 3.66948966e-02,\n",
       "       8.56315158e-02, 7.81990426e-02, 4.38016270e-02, 6.10123680e-02,\n",
       "       8.27155715e-02, 5.96838823e-02, 6.60635534e-02, 5.04049132e-02,\n",
       "       6.77286045e-02, 7.74424268e-02, 4.57762504e-02, 3.37401968e-02,\n",
       "       6.93574757e-02, 6.61797642e-02, 5.86205978e-02, 4.49182428e-02,\n",
       "       7.26098969e-02, 8.54283819e-02, 6.62462969e-02, 8.53232230e-03,\n",
       "       4.26023762e-02, 7.06832752e-02, 7.88802906e-02, 4.79149810e-02,\n",
       "       8.28341715e-02, 6.89006081e-02, 6.67690644e-02, 2.31111265e-02,\n",
       "       8.15014643e-02, 7.35357887e-02, 4.82816719e-02, 6.69115189e-02,\n",
       "       5.73138080e-02, 3.90993603e-02, 8.31761008e-02, 7.08238879e-02,\n",
       "       6.75869297e-02, 6.55765300e-02, 4.44861687e-02, 7.94458608e-02,\n",
       "       8.11263964e-02, 7.93582339e-02, 1.85455997e-02, 2.91281943e-02,\n",
       "       4.43972080e-02, 6.61795685e-02, 1.94130293e-02, 5.65033697e-02,\n",
       "       4.64386776e-02, 8.08147450e-02, 4.98411830e-02, 2.80715437e-02,\n",
       "       8.67137326e-02, 6.46220331e-02, 7.00117951e-02, 7.51723526e-02,\n",
       "       5.50334697e-02, 8.50356242e-02, 5.08042686e-02, 3.89878001e-02,\n",
       "       3.70269142e-02, 1.18371110e-02, 8.39176182e-02, 6.49057605e-02,\n",
       "       6.90838012e-02, 5.53118482e-02, 7.20696157e-02, 4.39740990e-02,\n",
       "       7.05254661e-02, 6.28238124e-03, 6.45202201e-02, 3.19314201e-02,\n",
       "       5.07397326e-02, 3.73145084e-02, 6.71099308e-02, 8.35605668e-02,\n",
       "       5.35571729e-02, 8.76881796e-02, 5.29430953e-02, 8.77407216e-02,\n",
       "       4.95417100e-02, 4.24129376e-02, 7.54137034e-02, 6.57821432e-02,\n",
       "       6.55062518e-02, 7.24227917e-02, 6.57029225e-02, 7.18996551e-02,\n",
       "       5.60565776e-02, 6.89732355e-02, 5.25875443e-02, 8.40942927e-02,\n",
       "       8.69876312e-02, 6.47407569e-02, 4.42194372e-02, 2.37352634e-02,\n",
       "       3.89644526e-02, 3.56946069e-02, 5.83220038e-02, 2.29994711e-02,\n",
       "       7.65943681e-02, 3.21847761e-02, 5.78630925e-02, 6.63407745e-02,\n",
       "       7.53910796e-02, 6.72341277e-02, 6.42521098e-02, 7.35872805e-02,\n",
       "       6.12199799e-02, 8.94762010e-02, 7.86897544e-02, 8.98609508e-02,\n",
       "       8.49000815e-02, 6.57829489e-02, 7.21847367e-02, 7.22682876e-02,\n",
       "       8.71862113e-02, 7.94024944e-02, 7.20475229e-02, 1.25364342e-02,\n",
       "       5.93339213e-06, 1.18120912e-23, 3.98134038e-02, 5.45567281e-08,\n",
       "       4.46172062e-12, 6.10718445e-05, 2.91286664e-23])"
      ]
     },
     "execution_count": 9,
     "metadata": {},
     "output_type": "execute_result"
    }
   ],
   "source": [
    "P = GaussianProbability(X, mu, s)\n",
    "P"
   ]
  },
  {
   "cell_type": "code",
   "execution_count": 10,
   "metadata": {},
   "outputs": [],
   "source": [
    "#Tengo X1, X2 pero como vectores pero necesito crear grillas\n",
    "x = np.linspace(0,30,100)\n",
    "y = np.linspace(0,30,100)\n",
    "XX, YY = np.meshgrid(x, y)"
   ]
  },
  {
   "cell_type": "code",
   "execution_count": 11,
   "metadata": {},
   "outputs": [
    {
     "data": {
      "text/plain": [
       "(100, 100)"
      ]
     },
     "execution_count": 11,
     "metadata": {},
     "output_type": "execute_result"
    }
   ],
   "source": [
    "X_long = np.stack((XX.flatten(), YY.flatten()), axis=1)\n",
    "X_long.shape\n",
    "Z = GaussianProbability(X_long, mu, s)\n",
    "ZZ = np.reshape(Z, XX.shape)\n",
    "ZZ.shape"
   ]
  },
  {
   "cell_type": "code",
   "execution_count": 12,
   "metadata": {},
   "outputs": [
    {
     "data": {
      "text/plain": [
       "1.181209116896769e-23"
      ]
     },
     "execution_count": 12,
     "metadata": {},
     "output_type": "execute_result"
    }
   ],
   "source": [
    "np.min(P)"
   ]
  },
  {
   "cell_type": "code",
   "execution_count": 13,
   "metadata": {},
   "outputs": [
    {
     "data": {
      "text/plain": [
       "<matplotlib.contour.QuadContourSet at 0x285de1572e0>"
      ]
     },
     "execution_count": 13,
     "metadata": {},
     "output_type": "execute_result"
    },
    {
     "data": {
      "image/png": "[encoded data removed]",
      "text/plain": [
       "<Figure size 432x288 with 1 Axes>"
      ]
     },
     "metadata": {
      "needs_background": "light"
     },
     "output_type": "display_data"
    }
   ],
   "source": [
    "plt.plot(X[:,0], X[:,1], 'x')\n",
    "plt.contour(XX, YY, ZZ, levels = 1) \n",
    "plt.contour(XX, YY, ZZ, levels = 10**np.linspace(-20,-3,6)) "
   ]
  },
  {
   "cell_type": "code",
   "execution_count": 14,
   "metadata": {},
   "outputs": [],
   "source": [
    "from mpl_toolkits.mplot3d import Axes3D\n",
    "from matplotlib import cm"
   ]
  },
  {
   "cell_type": "code",
   "execution_count": 15,
   "metadata": {},
   "outputs": [
    {
     "data": {
      "image/png": "[encoded data removed]",
      "text/plain": [
       "<Figure size 432x288 with 1 Axes>"
      ]
     },
     "metadata": {
      "needs_background": "light"
     },
     "output_type": "display_data"
    }
   ],
   "source": [
    "fig = plt.figure()\n",
    "ax = fig.gca(projection='3d')\n",
    "surf = ax.plot_surface(XX, YY, ZZ, cmap=cm.coolwarm, linewidth=0, antialiased=False)"
   ]
  },
  {
   "cell_type": "markdown",
   "metadata": {},
   "source": [
    "### 1.3 Selecting the threshold, $\\varepsilon$"
   ]
  },
  {
   "cell_type": "code",
   "execution_count": 16,
   "metadata": {},
   "outputs": [],
   "source": [
    "pval = GaussianProbability(X, mu, s)"
   ]
  },
  {
   "cell_type": "code",
   "execution_count": 17,
   "metadata": {},
   "outputs": [],
   "source": [
    "def selectThreshold(pval, yval):\n",
    "    '''\n",
    "    yval is the label 0/1 of the cross validation set\n",
    "    y = 1 anomalous example\n",
    "    y = 0 normal example\n",
    "    '''\n",
    "    bestEpsilon = 0\n",
    "    bestF1 = 0\n",
    "    F1 = 0\n",
    "    stepsize = (np.max(pval) - np.min(pval)) / 1000\n",
    "    \n",
    "    for epsilon in np.arange(np.min(pval),np.max(pval),stepsize): #len(np.arange(np.min(pval),np.max(pval),stepsize) = 1000\n",
    "        #1. predict y using the GuassianProbability\n",
    "        y = np.where(pval < epsilon, 1, 0) #where pval <= epsilon, then predict 1 (anomalous), else (p > epsilon), then predict 0\n",
    "        #2. compute the F1 score\n",
    "        #compute true positive tp, false positive fp and false negative fn\n",
    "        tp = np.count_nonzero((y == 1) & (yval == 1))\n",
    "        fp = np.count_nonzero((y == 1) & (yval == 0))\n",
    "        fn = np.count_nonzero((y == 0) & (yval == 1))\n",
    "        \n",
    "        #compute precision and recall\n",
    "        if (tp + fp) > 0:\n",
    "            prec = tp / (tp + fp)\n",
    "            rec = tp / (tp + fn)\n",
    "            #compute F1 score\n",
    "            F1 = (2*prec*rec) / (prec + rec)\n",
    "        else:\n",
    "            F1 = 0\n",
    "            \n",
    "        if F1 > bestF1:\n",
    "            bestF1 = F1\n",
    "            bestEpsilon = epsilon\n",
    "\n",
    "    return bestEpsilon, bestF1"
   ]
  },
  {
   "cell_type": "code",
   "execution_count": 18,
   "metadata": {},
   "outputs": [
    {
     "data": {
      "text/plain": [
       "(8.986095083415362e-05, 0.8)"
      ]
     },
     "execution_count": 18,
     "metadata": {},
     "output_type": "execute_result"
    }
   ],
   "source": [
    "#find best epsilon (that maximize F1 score)\n",
    "epsilon, F1_score = selectThreshold(pval, yval)\n",
    "epsilon, F1_score "
   ]
  },
  {
   "cell_type": "code",
   "execution_count": 19,
   "metadata": {},
   "outputs": [
    {
     "data": {
      "text/plain": [
       "(array([300, 301, 303, 304, 305, 306], dtype=int64),)"
      ]
     },
     "execution_count": 19,
     "metadata": {},
     "output_type": "execute_result"
    }
   ],
   "source": [
    "#find the outliers using the epsilon find above\n",
    "outliers = np.where(P <= epsilon)\n",
    "outliers"
   ]
  },
  {
   "cell_type": "code",
   "execution_count": 20,
   "metadata": {},
   "outputs": [
    {
     "data": {
      "image/png": "[encoded data removed]",
      "text/plain": [
       "<Figure size 432x288 with 1 Axes>"
      ]
     },
     "metadata": {
      "needs_background": "light"
     },
     "output_type": "display_data"
    }
   ],
   "source": [
    "plt.plot(X[:,0], X[:,1], 'x')\n",
    "plt.contour(XX, YY, ZZ, levels = 1) \n",
    "plt.contour(XX, YY, ZZ, levels = 10**np.linspace(-20,-3,6)) \n",
    "plt.scatter(X[outliers, 0], X[outliers, 1], facecolors='none', edgecolors='r', s=50);"
   ]
  },
  {
   "cell_type": "markdown",
   "metadata": {},
   "source": [
    "### 1.4 High dimensional dataset"
   ]
  },
  {
   "cell_type": "code",
   "execution_count": 21,
   "metadata": {},
   "outputs": [
    {
     "data": {
      "text/plain": [
       "dict_keys(['__header__', '__version__', '__globals__', 'X', 'Xval', 'yval'])"
      ]
     },
     "execution_count": 21,
     "metadata": {},
     "output_type": "execute_result"
    }
   ],
   "source": [
    "data2 = scipy.io.loadmat('Data/ex8data2.mat')\n",
    "data2.keys()"
   ]
  },
  {
   "cell_type": "code",
   "execution_count": 22,
   "metadata": {},
   "outputs": [],
   "source": [
    "X = data2['X']\n",
    "Xval = data2['Xval']\n",
    "yval = data2['yval']\n",
    "yval = yval[:,0] #convert m x 1 into (m, ) an array"
   ]
  },
  {
   "cell_type": "code",
   "execution_count": 23,
   "metadata": {},
   "outputs": [
    {
     "name": "stdout",
     "output_type": "stream",
     "text": [
      "number training examples m = 1000, number of variables n = 11\n",
      "number cross validation examples m = 100\n"
     ]
    }
   ],
   "source": [
    "# how the number of variables is 11, then doesn't have sense plot \n",
    "print(f'number training examples m = {X.shape[0]}, number of variables n = {X.shape[1]}')\n",
    "print(f'number cross validation examples m = {Xval.shape[0]}')"
   ]
  },
  {
   "cell_type": "code",
   "execution_count": 24,
   "metadata": {},
   "outputs": [
    {
     "data": {
      "text/plain": [
       "(array([  4.93940034,  -9.63726819,  13.81470749, -10.4644888 ,\n",
       "         -7.95622922,  10.19950372,  -6.01940755,   7.96982896,\n",
       "         -6.2531819 ,   2.32451289,   8.47372252]),\n",
       " array([60.97489373, 53.20572186, 58.51546272, 84.20403725, 65.26859177,\n",
       "        89.57487757, 55.63349911, 87.16233783, 29.62926829, 70.7852052 ,\n",
       "        50.50356719]))"
      ]
     },
     "execution_count": 24,
     "metadata": {},
     "output_type": "execute_result"
    }
   ],
   "source": [
    "# Fit mu and sigma\n",
    "mu, sigma_square = estimateGaussian(X)\n",
    "mu, sigma_square"
   ]
  },
  {
   "cell_type": "code",
   "execution_count": 25,
   "metadata": {},
   "outputs": [],
   "source": [
    "#Cross validation\n",
    "pval = GaussianProbability(Xval, mu, sigma_square)"
   ]
  },
  {
   "cell_type": "code",
   "execution_count": 26,
   "metadata": {},
   "outputs": [
    {
     "data": {
      "text/plain": [
       "(1.377228890761357e-18, 0.6153846153846154)"
      ]
     },
     "execution_count": 26,
     "metadata": {},
     "output_type": "execute_result"
    }
   ],
   "source": [
    "#Find epsilon that maximize F1 score\n",
    "epsilon, F1_score = selectThreshold(pval, yval)\n",
    "epsilon, F1_score"
   ]
  },
  {
   "cell_type": "code",
   "execution_count": 27,
   "metadata": {},
   "outputs": [
    {
     "name": "stdout",
     "output_type": "stream",
     "text": [
      "There are 117 in dataset 2\n"
     ]
    }
   ],
   "source": [
    "#Find outliers\n",
    "P = GaussianProbability(X, mu, sigma_square)\n",
    "outliers = np.where(P < epsilon)[0]\n",
    "number_anomalies = outliers.shape[0]\n",
    "print(f'There are {number_anomalies} in dataset 2')"
   ]
  },
  {
   "cell_type": "markdown",
   "metadata": {},
   "source": [
    "# 2. Recommender Systems"
   ]
  },
  {
   "cell_type": "code",
   "execution_count": 28,
   "metadata": {},
   "outputs": [
    {
     "data": {
      "text/plain": [
       "dict_keys(['__header__', '__version__', '__globals__', 'X', 'Theta', 'num_users', 'num_movies', 'num_features'])"
      ]
     },
     "execution_count": 28,
     "metadata": {},
     "output_type": "execute_result"
    }
   ],
   "source": [
    "moviesParams = scipy.io.loadmat('Data/ex8_movieParams.mat')\n",
    "moviesParams.keys()"
   ]
  },
  {
   "cell_type": "code",
   "execution_count": 29,
   "metadata": {},
   "outputs": [
    {
     "name": "stdout",
     "output_type": "stream",
     "text": [
      "number of movies 1682, number of features 10, number of users 943\n"
     ]
    }
   ],
   "source": [
    "X = moviesParams['X']\n",
    "Theta = moviesParams['Theta']\n",
    "num_users = moviesParams['num_users'][0][0]\n",
    "num_movies = moviesParams['num_movies'][0][0]\n",
    "num_features = moviesParams['num_features'][0][0]\n",
    "print(f'number of movies {num_movies}, number of features {num_features}, number of users {num_users}')"
   ]
  },
  {
   "cell_type": "markdown",
   "metadata": {},
   "source": [
    "### 2.1 Movie ratings dataset"
   ]
  },
  {
   "cell_type": "code",
   "execution_count": 30,
   "metadata": {},
   "outputs": [
    {
     "data": {
      "text/plain": [
       "dict_keys(['__header__', '__version__', '__globals__', 'Y', 'R'])"
      ]
     },
     "execution_count": 30,
     "metadata": {},
     "output_type": "execute_result"
    }
   ],
   "source": [
    "movies = scipy.io.loadmat('Data/ex8_movies.mat')\n",
    "movies.keys()"
   ]
  },
  {
   "cell_type": "code",
   "execution_count": 31,
   "metadata": {},
   "outputs": [],
   "source": [
    "Y = movies['Y']\n",
    "R = movies['R']"
   ]
  },
  {
   "cell_type": "code",
   "execution_count": 32,
   "metadata": {},
   "outputs": [
    {
     "data": {
      "text/plain": [
       "array([5, 4, 0, 0, 4, 4, 0, 0, 0, 4, 0, 0, 3, 0, 1, 5, 4, 5, 0, 3, 5, 0,\n",
       "       5, 0, 5, 3, 0, 0, 0, 0, 0, 0, 0, 0, 0, 0, 0, 5, 0, 0, 4, 5, 5, 4,\n",
       "       5, 0, 0, 0, 2, 0, 0, 0, 0, 4, 0, 4, 5, 5, 2, 0, 0, 2, 3, 4, 3, 3,\n",
       "       3, 0, 0, 4, 0, 4, 2, 0, 4, 0, 5, 0, 4, 0, 4, 4, 4, 2, 0, 0, 0, 0,\n",
       "       5, 0, 0, 4, 5, 4, 5, 5, 4, 0, 4, 0, 3, 3, 0, 0, 0, 4, 0, 4, 4, 0,\n",
       "       0, 0, 0, 0, 0, 0, 4, 0, 0, 4, 4, 0, 0, 3, 4, 0, 0, 4, 0, 5, 4, 0,\n",
       "       0, 5, 0, 0, 3, 4, 0, 0, 3, 0, 0, 4, 3, 0, 0, 4, 0, 4, 5, 0, 0, 0,\n",
       "       0, 0, 5, 4, 0, 4, 0, 4, 0, 0, 0, 0, 0, 5, 0, 0, 0, 0, 0, 3, 0, 0,\n",
       "       3, 4, 0, 0, 3, 4, 0, 4, 0, 0, 0, 0, 5, 0, 0, 0, 4, 4, 0, 0, 0, 4,\n",
       "       1, 5, 3, 3, 3, 2, 0, 0, 0, 0, 5, 5, 0, 0, 2, 0, 0, 4, 0, 0, 0, 0,\n",
       "       0, 4, 4, 0, 0, 0, 0, 0, 0, 5, 3, 4, 0, 3, 4, 0, 0, 0, 0, 0, 0, 4,\n",
       "       4, 4, 0, 4, 4, 3, 4, 4, 4, 5, 5, 3, 0, 5, 0, 0, 0, 0, 0, 3, 5, 0,\n",
       "       5, 0, 0, 3, 0, 0, 3, 0, 0, 4, 4, 5, 4, 0, 3, 4, 0, 0, 0, 0, 0, 4,\n",
       "       5, 0, 3, 5, 5, 4, 2, 5, 4, 5, 3, 5, 3, 0, 4, 0, 5, 0, 5, 0, 5, 4,\n",
       "       0, 0, 4, 5, 4, 5, 0, 0, 0, 0, 0, 3, 0, 2, 0, 5, 2, 3, 4, 0, 0, 5,\n",
       "       1, 4, 0, 0, 0, 3, 0, 3, 5, 5, 0, 0, 5, 3, 3, 0, 4, 4, 0, 4, 0, 0,\n",
       "       0, 0, 0, 0, 5, 0, 4, 3, 0, 0, 2, 0, 4, 0, 0, 0, 0, 0, 4, 0, 0, 4,\n",
       "       0, 0, 0, 4, 4, 4, 5, 0, 0, 0, 0, 0, 4, 5, 4, 5, 0, 0, 3, 4, 5, 4,\n",
       "       0, 5, 4, 0, 2, 5, 4, 0, 0, 4, 4, 0, 0, 0, 4, 4, 0, 0, 0, 5, 4, 0,\n",
       "       4, 0, 0, 3, 0, 1, 2, 0, 0, 0, 3, 0, 0, 2, 0, 4, 5, 0, 0, 4, 0, 0,\n",
       "       5, 0, 0, 0, 3, 0, 3, 0, 0, 4, 0, 0, 0, 3, 4, 2, 4, 4, 4, 2, 0, 0,\n",
       "       1, 0, 4, 0, 4, 5, 0, 3, 4, 5, 0, 0, 0, 0, 0, 4, 5, 0, 0, 0, 4, 5,\n",
       "       0, 4, 5, 3, 0, 3, 0, 0, 3, 3, 4, 0, 4, 0, 0, 4, 0, 0, 5, 0, 3, 0,\n",
       "       0, 5, 0, 0, 0, 4, 0, 5, 0, 0, 3, 4, 0, 0, 2, 0, 5, 0, 4, 5, 0, 0,\n",
       "       0, 0, 0, 5, 4, 5, 3, 5, 2, 0, 0, 3, 4, 4, 0, 0, 5, 0, 0, 4, 5, 3,\n",
       "       0, 3, 3, 3, 0, 0, 0, 0, 0, 4, 2, 2, 0, 0, 0, 0, 3, 0, 4, 0, 0, 0,\n",
       "       0, 0, 0, 4, 5, 0, 4, 3, 0, 4, 0, 0, 0, 0, 0, 4, 0, 0, 0, 4, 3, 0,\n",
       "       0, 0, 3, 0, 4, 0, 0, 4, 0, 0, 4, 5, 0, 0, 1, 4, 0, 4, 4, 5, 0, 0,\n",
       "       0, 4, 0, 5, 3, 3, 0, 4, 0, 0, 0, 0, 0, 4, 0, 3, 0, 3, 4, 3, 4, 0,\n",
       "       0, 0, 0, 5, 5, 0, 0, 0, 0, 5, 5, 3, 0, 0, 4, 4, 2, 0, 3, 4, 0, 3,\n",
       "       5, 0, 4, 4, 4, 0, 0, 0, 5, 0, 0, 0, 0, 4, 0, 5, 4, 5, 3, 4, 0, 4,\n",
       "       0, 4, 0, 0, 0, 0, 3, 4, 5, 4, 0, 0, 0, 0, 5, 4, 3, 0, 4, 0, 4, 0,\n",
       "       5, 4, 0, 5, 4, 4, 0, 0, 0, 3, 5, 5, 0, 0, 0, 0, 5, 0, 3, 0, 0, 4,\n",
       "       3, 0, 0, 4, 2, 0, 2, 0, 4, 0, 0, 5, 0, 0, 0, 4, 0, 4, 2, 4, 5, 4,\n",
       "       4, 0, 3, 0, 0, 0, 0, 4, 4, 0, 5, 0, 1, 0, 4, 4, 0, 0, 5, 5, 4, 5,\n",
       "       5, 0, 3, 0, 0, 0, 4, 0, 4, 0, 0, 0, 0, 0, 4, 4, 0, 3, 3, 3, 0, 4,\n",
       "       4, 4, 4, 2, 0, 4, 0, 4, 0, 0, 0, 5, 4, 4, 4, 0, 0, 0, 0, 0, 0, 0,\n",
       "       5, 0, 4, 0, 0, 0, 5, 4, 4, 0, 0, 4, 0, 0, 4, 4, 4, 0, 0, 0, 3, 0,\n",
       "       0, 5, 4, 0, 0, 0, 3, 0, 0, 0, 3, 0, 0, 0, 0, 4, 0, 3, 0, 0, 0, 0,\n",
       "       0, 0, 0, 0, 0, 5, 1, 0, 4, 4, 0, 5, 0, 3, 0, 0, 0, 0, 0, 0, 4, 4,\n",
       "       4, 5, 3, 0, 5, 4, 5, 0, 3, 4, 0, 5, 5, 4, 4, 4, 5, 0, 3, 0, 5, 5,\n",
       "       3, 0, 0, 0, 5, 0, 0, 4, 0, 0, 2, 0, 0, 4, 3, 3, 4, 0, 3, 5, 3, 5,\n",
       "       0, 0, 5, 0, 3, 3, 0, 4, 3, 2, 3, 4, 0, 4, 0, 0, 5, 0, 0],\n",
       "      dtype=uint8)"
      ]
     },
     "execution_count": 32,
     "metadata": {},
     "output_type": "execute_result"
    }
   ],
   "source": [
    "Y[0,:] #the first movie (Toy story) has 943 users, but hasn't been evaluated by all users.\n",
    "        #How many users has been rated Toy story?"
   ]
  },
  {
   "cell_type": "code",
   "execution_count": 33,
   "metadata": {},
   "outputs": [
    {
     "name": "stdout",
     "output_type": "stream",
     "text": [
      "rating mean of Toy Story: 1.8589607635206786\n"
     ]
    }
   ],
   "source": [
    "print(f'rating mean of Toy Story: {np.mean(Y[0,:])}')"
   ]
  },
  {
   "cell_type": "code",
   "execution_count": 34,
   "metadata": {},
   "outputs": [
    {
     "name": "stdout",
     "output_type": "stream",
     "text": [
      "rating mean of Toy Story: 3.8783185840707963\n"
     ]
    }
   ],
   "source": [
    "#Recall that the rating is between 1-5, when there is a 0, it's because there isn't rating of user j\n",
    "print(f'rating mean of Toy Story: {np.mean(Y[0,Y[0,:] >= 1])}')"
   ]
  },
  {
   "cell_type": "markdown",
   "metadata": {},
   "source": [
    "### 2.2 Collaborative filtering learning algorithm"
   ]
  },
  {
   "cell_type": "markdown",
   "metadata": {},
   "source": [
    "$$\\displaystyle{J(x^{(1)},\\ldots,x^{(n_m)},\\theta^{(1)}, \\ldots, \\theta^{(n_u)}) = \\frac{1}{2} \\sum_{(i,j): R(i,j)=1} (\\theta ^{(j)} \\cdot x^{(i)} - y^{(i,j)})^2}$$"
   ]
  },
  {
   "cell_type": "markdown",
   "metadata": {},
   "source": [
    "#### 2.2.1 Collaborative filtering cost function"
   ]
  },
  {
   "cell_type": "code",
   "execution_count": 35,
   "metadata": {},
   "outputs": [
    {
     "data": {
      "text/plain": [
       "(1682, 10)"
      ]
     },
     "execution_count": 35,
     "metadata": {},
     "output_type": "execute_result"
    }
   ],
   "source": [
    "X.shape"
   ]
  },
  {
   "cell_type": "code",
   "execution_count": 36,
   "metadata": {},
   "outputs": [
    {
     "data": {
      "text/plain": [
       "(16820,)"
      ]
     },
     "execution_count": 36,
     "metadata": {},
     "output_type": "execute_result"
    }
   ],
   "source": [
    "X.flatten().shape"
   ]
  },
  {
   "cell_type": "code",
   "execution_count": 37,
   "metadata": {},
   "outputs": [
    {
     "data": {
      "text/plain": [
       "(943, 10)"
      ]
     },
     "execution_count": 37,
     "metadata": {},
     "output_type": "execute_result"
    }
   ],
   "source": [
    "Theta.shape"
   ]
  },
  {
   "cell_type": "code",
   "execution_count": 38,
   "metadata": {},
   "outputs": [
    {
     "data": {
      "text/plain": [
       "(9430,)"
      ]
     },
     "execution_count": 38,
     "metadata": {},
     "output_type": "execute_result"
    }
   ],
   "source": [
    "Theta.flatten().shape"
   ]
  },
  {
   "cell_type": "code",
   "execution_count": 39,
   "metadata": {},
   "outputs": [
    {
     "data": {
      "text/plain": [
       "(26250,)"
      ]
     },
     "execution_count": 39,
     "metadata": {},
     "output_type": "execute_result"
    }
   ],
   "source": [
    "# unroll\n",
    "params = np.hstack((X.flatten(), Theta.flatten())) #np.concatenate((X.flatten(), Theta.flatten()))\n",
    "params.shape"
   ]
  },
  {
   "cell_type": "code",
   "execution_count": 40,
   "metadata": {},
   "outputs": [
    {
     "data": {
      "text/plain": [
       "(1682, 10)"
      ]
     },
     "execution_count": 40,
     "metadata": {},
     "output_type": "execute_result"
    }
   ],
   "source": [
    "np.reshape(params[0:num_movies*num_features], (num_movies, num_features)).shape"
   ]
  },
  {
   "cell_type": "code",
   "execution_count": 41,
   "metadata": {},
   "outputs": [
    {
     "data": {
      "text/plain": [
       "(943, 10)"
      ]
     },
     "execution_count": 41,
     "metadata": {},
     "output_type": "execute_result"
    }
   ],
   "source": [
    "np.reshape(params[num_movies*num_features:], (num_users, num_features)).shape"
   ]
  },
  {
   "cell_type": "code",
   "execution_count": 42,
   "metadata": {},
   "outputs": [],
   "source": [
    "def cofiCostFunc(params, Y, R, num_users, num_movies, num_features, Lambda=0):\n",
    "    # Unfold the U and W matrices from params\n",
    "    X = np.reshape(params[0:num_movies*num_features], (num_movies, num_features))\n",
    "    Theta = np.reshape(params[num_movies*num_features:], (num_users, num_features))\n",
    "    \n",
    "    J = 0.5*np.sum(R*(X @ Theta.T - Y)**2) #movies  x number of features\n",
    "    return J"
   ]
  },
  {
   "cell_type": "code",
   "execution_count": 43,
   "metadata": {},
   "outputs": [
    {
     "name": "stdout",
     "output_type": "stream",
     "text": [
      "Cost at loaded parameters: 22.224603725685675 (this value should be about 22.22)\n"
     ]
    }
   ],
   "source": [
    "#Verify the result\n",
    "num_users = 4\n",
    "num_movies = 5\n",
    "num_features = 3\n",
    "X = X[0:num_movies, 0:num_features]\n",
    "Theta = Theta[0:num_users, 0:num_features]\n",
    "Y = Y[0:num_movies, 0:num_users]\n",
    "R = R[0:num_movies, 0:num_users]\n",
    "J = cofiCostFunc(np.hstack((X.flatten(), Theta.flatten())), Y, R, num_users, num_movies, num_features, 0)\n",
    "print(f'Cost at loaded parameters: {J} (this value should be about 22.22)')"
   ]
  },
  {
   "cell_type": "code",
   "execution_count": 44,
   "metadata": {},
   "outputs": [],
   "source": [
    "i = 0\n",
    "k = 0\n",
    "j=0\n",
    "#np.sum((R[i,:]*(X[i,:] @ Theta.T - Y[i,:])) * Theta[:,k]) \n",
    "#X[:,k] * (R[:,j]*(X @ Theta[j,:] - Y[:,j]))"
   ]
  },
  {
   "cell_type": "markdown",
   "metadata": {},
   "source": [
    "#### 2.2.2 Collaborative filtering gradient"
   ]
  },
  {
   "cell_type": "markdown",
   "metadata": {},
   "source": [
    "$$\n",
    "\\begin{array}{rcl}\n",
    "\\frac{\\partial J}{\\partial x_k ^{(i)}} & = & \\sum_{j: r(i,j)=1} (\\theta ^j \\cdot x^{(i)} - y^{(i,j)}) \\theta_k ^{(j)} \\\\\n",
    "\\frac{\\partial J}{\\partial \\theta_k ^{(j)}} & = & \\sum_{i: r(i,j)=1} (\\theta ^j \\cdot x^{(i)} - y^{(i,j)}) x_k ^{(i)}\n",
    "\\end{array}\n",
    "$$"
   ]
  },
  {
   "cell_type": "code",
   "execution_count": 45,
   "metadata": {},
   "outputs": [],
   "source": [
    "def cofiCostFunc(params, Y, R, num_users, num_movies, num_features, Lambda=0):\n",
    "    # Unfold the U and W matrices from params\n",
    "    X = np.reshape(params[0:num_movies*num_features], (num_movies, num_features))\n",
    "    Theta = np.reshape(params[num_movies*num_features:], (num_users, num_features))\n",
    "    \n",
    "    #cost function\n",
    "    J = 0.5*np.sum(R*(X @ Theta.T - Y)**2) #movies  x number of features\n",
    "    \n",
    "    #cost gradient\n",
    "    X_grad = np.zeros(X.shape)\n",
    "    Theta_grad = np.zeros(Theta.shape)\n",
    "    M = R*(X @ Theta.T - Y)\n",
    "    \n",
    "    for i in np.arange(num_movies):\n",
    "        X_grad[i,:] = M[i,:] @ Theta \n",
    "    for j in np.arange(num_users):\n",
    "        Theta_grad[j,:] = X.T @ M[:,j]\n",
    "        \n",
    "#     for i in np.arange(num_movies):\n",
    "#         for k in np.arange(num_features):\n",
    "#             X_grad[i,k] = np.sum((R[i,:]*(X[i,:] @ Theta.T - Y[i,:])) * Theta[:,k]) \n",
    "#     for j in np.arange(num_users):\n",
    "#         for k in np.arange(num_features):\n",
    "#             Theta_grad[j,k] = np.sum((R[:,j]*(X @ Theta[j,:] - Y[:,j]))*X[:,k]) \n",
    "    \n",
    "    grad = np.concatenate((X_grad.flatten(), Theta_grad.flatten()))\n",
    "    return J, grad"
   ]
  },
  {
   "cell_type": "code",
   "execution_count": 46,
   "metadata": {},
   "outputs": [],
   "source": [
    "def computeNumericalGradient(theta, Y, R, num_users, num_movies, num_features, Lambda=0):\n",
    "    numgrad = np.zeros(theta.shape[0])\n",
    "    perturb = np.zeros(theta.shape[0])\n",
    "    epsilon = 1e-4\n",
    "    for p in np.arange(theta.shape[0]):\n",
    "        # Set perturbation vector\n",
    "        perturb[p] = epsilon\n",
    "        loss1,_ = cofiCostFunc(theta - perturb, Y, R, num_users, num_movies, num_features, Lambda)\n",
    "        loss2,_ = cofiCostFunc(theta + perturb, Y, R, num_users, num_movies, num_features, Lambda)\n",
    "        # Compute Numerical Gradient\n",
    "        numgrad[p] = (loss2 - loss1) / (2*epsilon)\n",
    "        perturb[p] = 0\n",
    "    return numgrad"
   ]
  },
  {
   "cell_type": "code",
   "execution_count": 47,
   "metadata": {},
   "outputs": [],
   "source": [
    "def checkCostFunction(Lambda=0):\n",
    "    # Create small problem\n",
    "    X_t = np.random.randn(4, 3)\n",
    "    Theta_t = np.random.randn(5, 3)\n",
    "\n",
    "    # Zap out most entries\n",
    "    Y = X_t @ Theta_t.T\n",
    "    Y[np.random.randn(Y.shape[0], Y.shape[1]) > 0.5] = 0 #np.where(np.random.randn(Y.shape) <= 0.5, Y, 0)\n",
    "    \n",
    "    R = np.zeros(Y.shape)\n",
    "    R[Y != 0] = 1\n",
    "\n",
    "    # Run Gradient Checking\n",
    "    X = np.random.randn(X_t.shape[0], X_t.shape[1])\n",
    "    Theta = np.random.randn(Theta_t.shape[0], Theta_t.shape[1])\n",
    "    num_users = Y.shape[1] \n",
    "    num_movies = Y.shape[0] \n",
    "    num_features = Theta_t.shape[1]\n",
    "    \n",
    "    \n",
    "    cost, grad = cofiCostFunc(np.concatenate((X.flatten(), Theta.flatten())),  Y, R, num_users, num_movies, num_features, Lambda)\n",
    "    params = np.concatenate((X.flatten(), Theta.flatten())) \n",
    "    numgrad = computeNumericalGradient(params, Y, R, num_users, num_movies, num_features, Lambda)\n",
    "    print(f'grad = {grad}')\n",
    "    print(f'numgrad = {numgrad}')\n",
    "    \n",
    "    print('The above two columns you get should be very similar. Left-Your Numerical Gradient, Right-Analytical Gradient')\n",
    "    diff = np.linalg.norm(numgrad-grad)/np.linalg.norm(numgrad+grad)\n",
    "    print(f'If your cost function implementation is correct, then the relative difference will be small (less than 1e-9). Relative Difference: {diff}')\n",
    "    return grad, numgrad, diff"
   ]
  },
  {
   "cell_type": "code",
   "execution_count": 48,
   "metadata": {},
   "outputs": [
    {
     "name": "stdout",
     "output_type": "stream",
     "text": [
      "grad = [ 4.71412979  2.92618869  7.48974312 -4.8220762   0.37258102  4.70726096\n",
      " -0.49752659 -0.21211444 -0.94328807 -2.82617341  0.66448132 -3.6506563\n",
      "  0.92645429 -0.79209937 -1.66102621  2.26054157  0.69103782 -2.38999967\n",
      "  1.22667303 -1.62462118 -5.51725882 -3.62279579  1.17537018  0.15125565\n",
      " -2.25198664  2.4007701  -2.898366  ]\n",
      "numgrad = [ 4.71412979  2.92618869  7.48974312 -4.8220762   0.37258102  4.70726096\n",
      " -0.49752659 -0.21211444 -0.94328807 -2.82617341  0.66448132 -3.6506563\n",
      "  0.92645429 -0.79209937 -1.66102621  2.26054157  0.69103782 -2.38999967\n",
      "  1.22667303 -1.62462118 -5.51725882 -3.62279579  1.17537018  0.15125565\n",
      " -2.25198664  2.4007701  -2.898366  ]\n",
      "The above two columns you get should be very similar. Left-Your Numerical Gradient, Right-Analytical Gradient\n",
      "If your cost function implementation is correct, then the relative difference will be small (less than 1e-9). Relative Difference: 1.6407797536551175e-12\n"
     ]
    },
    {
     "data": {
      "text/plain": [
       "1.6407797536551175e-12"
      ]
     },
     "execution_count": 48,
     "metadata": {},
     "output_type": "execute_result"
    }
   ],
   "source": [
    "grad, numgrad, diff = checkCostFunction()\n",
    "diff"
   ]
  },
  {
   "cell_type": "markdown",
   "metadata": {},
   "source": [
    "#### 2.2.3 Regularized cost function"
   ]
  },
  {
   "cell_type": "markdown",
   "metadata": {},
   "source": [
    "$$\\displaystyle{J(x^{(1)},\\ldots,x^{(n_m)},\\theta^{(1)}, \\ldots, \\theta^{(n_u)}) = \\frac{1}{2} \\sum_{(i,j): R(i,j)=1} (\\theta ^{(j)} \\cdot x^{(i)} - y^{(i,j)})^2}\n",
    "+ \\frac{\\lambda}{2} \\sum_{j=1} ^{n_u} \\sum_{k=1} ^n (\\theta_k ^{(j)})^2\n",
    "+ \\frac{\\lambda}{2} \\sum_{i=1} ^{n_m} \\sum_{k=1} ^n (x_k ^{(i)})^2\n",
    "$$"
   ]
  },
  {
   "cell_type": "code",
   "execution_count": 49,
   "metadata": {},
   "outputs": [],
   "source": [
    "def cofiCostFunc(params, Y, R, num_users, num_movies, num_features, Lambda):\n",
    "    # Unfold the U and W matrices from params\n",
    "    X = np.reshape(params[0:num_movies*num_features], (num_movies, num_features))\n",
    "    Theta = np.reshape(params[num_movies*num_features:], (num_users, num_features))\n",
    "    \n",
    "    #cost function\n",
    "    reg1 = 0.5*Lambda*np.linalg.norm(X)**2\n",
    "    reg2 = 0.5*Lambda*np.linalg.norm(Theta)**2\n",
    "    J = 0.5*np.sum(R*(X @ Theta.T - Y)**2) + reg1 + reg2 #movies  x number of features\n",
    "    \n",
    "    #cost gradient\n",
    "    X_grad = np.zeros(X.shape)\n",
    "    Theta_grad = np.zeros(Theta.shape)\n",
    "    M = R*(X @ Theta.T - Y)\n",
    "    \n",
    "    for i in np.arange(num_movies):\n",
    "        X_grad[i,:] = M[i,:] @ Theta \n",
    "    for j in np.arange(num_users):\n",
    "        Theta_grad[j,:] = X.T @ M[:,j]\n",
    "        \n",
    "#     for i in np.arange(num_movies):\n",
    "#         for k in np.arange(num_features):\n",
    "#             X_grad[i,k] = np.sum((R[i,:]*(X[i,:] @ Theta.T - Y[i,:])) * Theta[:,k]) \n",
    "#     for j in np.arange(num_users):\n",
    "#         for k in np.arange(num_features):\n",
    "#             Theta_grad[j,k] = np.sum((R[:,j]*(X @ Theta[j,:] - Y[:,j]))*X[:,k]) \n",
    "    \n",
    "    grad = np.concatenate((X_grad.flatten(), Theta_grad.flatten()))\n",
    "    return J, grad"
   ]
  },
  {
   "cell_type": "code",
   "execution_count": 50,
   "metadata": {},
   "outputs": [
    {
     "name": "stdout",
     "output_type": "stream",
     "text": [
      "Cost at loaded parameters (lambda = 1.5) 31.344056244274217 (this value should be about 31.34)\n"
     ]
    }
   ],
   "source": [
    "J,_ = cofiCostFunc(np.hstack((X.flatten(), Theta.flatten())), Y, R, num_users, num_movies, num_features, 1.5)         \n",
    "print(f'Cost at loaded parameters (lambda = 1.5) {J} (this value should be about 31.34)')"
   ]
  },
  {
   "cell_type": "markdown",
   "metadata": {},
   "source": [
    "#### 2.2.4 Regularized gradient"
   ]
  },
  {
   "cell_type": "markdown",
   "metadata": {},
   "source": [
    "$$\n",
    "\\begin{array}{rcl}\n",
    "\\frac{\\partial J}{\\partial x_k ^{(i)}} & = & \\sum_{j: r(i,j)=1} (\\theta ^j \\cdot x^{(i)} - y^{(i,j)}) \\theta_k ^{(j)} + \\lambda x_k ^{(i)}\\\\\n",
    "\\frac{\\partial J}{\\partial \\theta_k ^{(j)}} & = & \\sum_{i: r(i,j)=1} (\\theta ^j \\cdot x^{(i)} - y^{(i,j)}) x_k ^{(i)} + \\lambda \\theta_k ^{(j)}\n",
    "\\end{array}\n",
    "$$"
   ]
  },
  {
   "cell_type": "code",
   "execution_count": 51,
   "metadata": {},
   "outputs": [],
   "source": [
    "def cofiCostFunc(params, Y, R, num_users, num_movies, num_features, Lambda):\n",
    "    # Unfold the U and W matrices from params\n",
    "    X = np.reshape(params[0:num_movies*num_features], (num_movies, num_features))\n",
    "    Theta = np.reshape(params[num_movies*num_features:], (num_users, num_features))\n",
    "    \n",
    "    #cost function\n",
    "    reg1 = 0.5*Lambda*np.linalg.norm(X)**2\n",
    "    reg2 = 0.5*Lambda*np.linalg.norm(Theta)**2\n",
    "    J = 0.5*np.sum(R*(X @ Theta.T - Y)**2) + reg1 + reg2 #movies  x number of features\n",
    "    \n",
    "    #cost gradient\n",
    "    X_grad = np.zeros(X.shape)\n",
    "    Theta_grad = np.zeros(Theta.shape)\n",
    "    M = R*(X @ Theta.T - Y)\n",
    "    \n",
    "    for i in np.arange(num_movies):\n",
    "        X_grad[i,:] = (M[i,:] @ Theta) + Lambda*X[i,:]\n",
    "    for j in np.arange(num_users):\n",
    "        Theta_grad[j,:] = (X.T @ M[:,j]) + Lambda*Theta[j,:]\n",
    "        \n",
    "#     for i in np.arange(num_movies):\n",
    "#         for k in np.arange(num_features):\n",
    "#             X_grad[i,k] = np.sum((R[i,:]*(X[i,:] @ Theta.T - Y[i,:])) * Theta[:,k]) \n",
    "#     for j in np.arange(num_users):\n",
    "#         for k in np.arange(num_features):\n",
    "#             Theta_grad[j,k] = np.sum((R[:,j]*(X @ Theta[j,:] - Y[:,j]))*X[:,k]) \n",
    "    \n",
    "    grad = np.concatenate((X_grad.flatten(), Theta_grad.flatten()))\n",
    "    return J, grad"
   ]
  },
  {
   "cell_type": "code",
   "execution_count": 52,
   "metadata": {},
   "outputs": [
    {
     "name": "stdout",
     "output_type": "stream",
     "text": [
      "Checking Gradients (with regularization) ... \n",
      "grad = [  3.00779335   1.89958539  -6.13209139 -12.4602764    8.83725984\n",
      "  20.09268771  -4.95063167   1.1709904    4.40546275   3.30505175\n",
      "   9.11889746 -10.94637061   0.66173905  10.75467044  -8.94482794\n",
      "  -0.60667418   2.53042031  -2.34343095  -3.88403224  -0.51990412\n",
      "   6.55917341  -1.85563421   6.06206257   8.13046631  -0.98922266\n",
      "   3.40704927   7.91094137]\n",
      "numgrad = [  3.00779335   1.89958539  -6.13209139 -12.4602764    8.83725984\n",
      "  20.09268771  -4.95063167   1.1709904    4.40546275   3.30505175\n",
      "   9.11889746 -10.94637061   0.66173905  10.75467044  -8.94482794\n",
      "  -0.60667418   2.53042031  -2.34343095  -3.88403224  -0.51990412\n",
      "   6.55917341  -1.85563421   6.06206257   8.13046631  -0.98922266\n",
      "   3.40704927   7.91094137]\n",
      "The above two columns you get should be very similar. Left-Your Numerical Gradient, Right-Analytical Gradient\n",
      "If your cost function implementation is correct, then the relative difference will be small (less than 1e-9). Relative Difference: 3.146238871252672e-12\n"
     ]
    },
    {
     "data": {
      "text/plain": [
       "3.146238871252672e-12"
      ]
     },
     "execution_count": 52,
     "metadata": {},
     "output_type": "execute_result"
    }
   ],
   "source": [
    "print('Checking Gradients (with regularization) ... ')\n",
    "#  Check gradients by running checkNNGradients\n",
    "grad, numgrad, diff = checkCostFunction(Lambda=1.5)\n",
    "diff"
   ]
  },
  {
   "cell_type": "markdown",
   "metadata": {},
   "source": [
    "### 2.3 Learning movie recommendations"
   ]
  },
  {
   "cell_type": "code",
   "execution_count": 53,
   "metadata": {},
   "outputs": [],
   "source": [
    "# np.loadtxt(, usecols=2)\n",
    "def loadMovieList():\n",
    "    movie_list = []\n",
    "    f = open('Data/movie_ids.txt')\n",
    "    lines = f.readlines()\n",
    "    for line in lines:\n",
    "        strings_in_line = line.rstrip() #remove spaces\n",
    "        strings_in_line_split = strings_in_line.split(' ')\n",
    "        strings_in_line = strings_in_line_split[1:] #not consider the index\n",
    "        movie_name = ' '.join(strings_in_line)\n",
    "        movie_list.append(movie_name)\n",
    "    return movie_list"
   ]
  },
  {
   "cell_type": "code",
   "execution_count": 54,
   "metadata": {},
   "outputs": [
    {
     "data": {
      "text/plain": [
       "['Toy Story (1995)',\n",
       " 'GoldenEye (1995)',\n",
       " 'Four Rooms (1995)',\n",
       " 'Get Shorty (1995)',\n",
       " 'Copycat (1995)',\n",
       " 'Shanghai Triad (Yao a yao yao dao waipo qiao) (1995)',\n",
       " 'Twelve Monkeys (1995)',\n",
       " 'Babe (1995)',\n",
       " 'Dead Man Walking (1995)',\n",
       " 'Richard III (1995)',\n",
       " 'Seven (Se7en) (1995)',\n",
       " 'Usual Suspects, The (1995)',\n",
       " 'Mighty Aphrodite (1995)',\n",
       " 'Postino, Il (1994)',\n",
       " \"Mr. Holland's Opus (1995)\",\n",
       " 'French Twist (Gazon maudit) (1995)',\n",
       " 'From Dusk Till Dawn (1996)',\n",
       " 'White Balloon, The (1995)',\n",
       " \"Antonia's Line (1995)\",\n",
       " 'Angels and Insects (1995)',\n",
       " 'Muppet Treasure Island (1996)',\n",
       " 'Braveheart (1995)',\n",
       " 'Taxi Driver (1976)',\n",
       " 'Rumble in the Bronx (1995)',\n",
       " 'Birdcage, The (1996)',\n",
       " 'Brothers McMullen, The (1995)',\n",
       " 'Bad Boys (1995)',\n",
       " 'Apollo 13 (1995)',\n",
       " 'Batman Forever (1995)',\n",
       " 'Belle de jour (1967)',\n",
       " 'Crimson Tide (1995)',\n",
       " 'Crumb (1994)',\n",
       " 'Desperado (1995)',\n",
       " 'Doom Generation, The (1995)',\n",
       " 'Free Willy 2: The Adventure Home (1995)',\n",
       " 'Mad Love (1995)',\n",
       " 'Nadja (1994)',\n",
       " 'Net, The (1995)',\n",
       " 'Strange Days (1995)',\n",
       " 'To Wong Foo, Thanks for Everything! Julie Newmar (1995)',\n",
       " 'Billy Madison (1995)',\n",
       " 'Clerks (1994)',\n",
       " 'Disclosure (1994)',\n",
       " 'Dolores Claiborne (1994)',\n",
       " 'Eat Drink Man Woman (1994)',\n",
       " 'Exotica (1994)',\n",
       " 'Ed Wood (1994)',\n",
       " 'Hoop Dreams (1994)',\n",
       " 'I.Q. (1994)',\n",
       " 'Star Wars (1977)',\n",
       " 'Legends of the Fall (1994)',\n",
       " 'Madness of King George, The (1994)',\n",
       " 'Natural Born Killers (1994)',\n",
       " 'Outbreak (1995)',\n",
       " 'Professional, The (1994)',\n",
       " 'Pulp Fiction (1994)',\n",
       " 'Priest (1994)',\n",
       " 'Quiz Show (1994)',\n",
       " 'Three Colors: Red (1994)',\n",
       " 'Three Colors: Blue (1993)',\n",
       " 'Three Colors: White (1994)',\n",
       " 'Stargate (1994)',\n",
       " 'Santa Clause, The (1994)',\n",
       " 'Shawshank Redemption, The (1994)',\n",
       " \"What's Eating Gilbert Grape (1993)\",\n",
       " 'While You Were Sleeping (1995)',\n",
       " 'Ace Ventura: Pet Detective (1994)',\n",
       " 'Crow, The (1994)',\n",
       " 'Forrest Gump (1994)',\n",
       " 'Four Weddings and a Funeral (1994)',\n",
       " 'Lion King, The (1994)',\n",
       " 'Mask, The (1994)',\n",
       " 'Maverick (1994)',\n",
       " 'Faster Pussycat! Kill! Kill! (1965)',\n",
       " 'Brother Minister: The Assassination of Malcolm X (1994)',\n",
       " \"Carlito's Way (1993)\",\n",
       " 'Firm, The (1993)',\n",
       " 'Free Willy (1993)',\n",
       " 'Fugitive, The (1993)',\n",
       " 'Hot Shots! Part Deux (1993)',\n",
       " 'Hudsucker Proxy, The (1994)',\n",
       " 'Jurassic Park (1993)',\n",
       " 'Much Ado About Nothing (1993)',\n",
       " \"Robert A. Heinlein's The Puppet Masters (1994)\",\n",
       " 'Ref, The (1994)',\n",
       " 'Remains of the Day, The (1993)',\n",
       " 'Searching for Bobby Fischer (1993)',\n",
       " 'Sleepless in Seattle (1993)',\n",
       " 'Blade Runner (1982)',\n",
       " 'So I Married an Axe Murderer (1993)',\n",
       " 'Nightmare Before Christmas, The (1993)',\n",
       " 'True Romance (1993)',\n",
       " 'Welcome to the Dollhouse (1995)',\n",
       " 'Home Alone (1990)',\n",
       " 'Aladdin (1992)',\n",
       " 'Terminator 2: Judgment Day (1991)',\n",
       " 'Dances with Wolves (1990)',\n",
       " 'Silence of the Lambs, The (1991)',\n",
       " 'Snow White and the Seven Dwarfs (1937)',\n",
       " 'Fargo (1996)',\n",
       " 'Heavy Metal (1981)',\n",
       " 'Aristocats, The (1970)',\n",
       " 'All Dogs Go to Heaven 2 (1996)',\n",
       " 'Theodore Rex (1995)',\n",
       " 'Sgt. Bilko (1996)',\n",
       " 'Diabolique (1996)',\n",
       " 'Moll Flanders (1996)',\n",
       " 'Kids in the Hall: Brain Candy (1996)',\n",
       " 'Mystery Science Theater 3000: The Movie (1996)',\n",
       " 'Operation Dumbo Drop (1995)',\n",
       " 'Truth About Cats & Dogs, The (1996)',\n",
       " 'Flipper (1996)',\n",
       " 'Horseman on the Roof, The (Hussard sur le toit, Le) (1995)',\n",
       " 'Wallace & Gromit: The Best of Aardman Animation (1996)',\n",
       " 'Haunted World of Edward D. Wood Jr., The (1995)',\n",
       " 'Cold Comfort Farm (1995)',\n",
       " 'Rock, The (1996)',\n",
       " 'Twister (1996)',\n",
       " 'Maya Lin: A Strong Clear Vision (1994)',\n",
       " 'Striptease (1996)',\n",
       " 'Independence Day (ID4) (1996)',\n",
       " 'Cable Guy, The (1996)',\n",
       " 'Frighteners, The (1996)',\n",
       " 'Lone Star (1996)',\n",
       " 'Phenomenon (1996)',\n",
       " 'Spitfire Grill, The (1996)',\n",
       " 'Godfather, The (1972)',\n",
       " 'Supercop (1992)',\n",
       " 'Bound (1996)',\n",
       " 'Kansas City (1996)',\n",
       " \"Breakfast at Tiffany's (1961)\",\n",
       " 'Wizard of Oz, The (1939)',\n",
       " 'Gone with the Wind (1939)',\n",
       " 'Citizen Kane (1941)',\n",
       " '2001: A Space Odyssey (1968)',\n",
       " 'Mr. Smith Goes to Washington (1939)',\n",
       " 'Big Night (1996)',\n",
       " 'D3: The Mighty Ducks (1996)',\n",
       " 'Love Bug, The (1969)',\n",
       " 'Homeward Bound: The Incredible Journey (1993)',\n",
       " '20,000 Leagues Under the Sea (1954)',\n",
       " 'Bedknobs and Broomsticks (1971)',\n",
       " 'Sound of Music, The (1965)',\n",
       " 'Die Hard (1988)',\n",
       " 'Lawnmower Man, The (1992)',\n",
       " 'Unhook the Stars (1996)',\n",
       " 'Long Kiss Goodnight, The (1996)',\n",
       " 'Ghost and the Darkness, The (1996)',\n",
       " 'Jude (1996)',\n",
       " 'Swingers (1996)',\n",
       " 'Willy Wonka and the Chocolate Factory (1971)',\n",
       " 'Sleeper (1973)',\n",
       " 'Fish Called Wanda, A (1988)',\n",
       " \"Monty Python's Life of Brian (1979)\",\n",
       " 'Dirty Dancing (1987)',\n",
       " 'Reservoir Dogs (1992)',\n",
       " 'Platoon (1986)',\n",
       " \"Weekend at Bernie's (1989)\",\n",
       " 'Basic Instinct (1992)',\n",
       " 'Glengarry Glen Ross (1992)',\n",
       " 'Top Gun (1986)',\n",
       " 'On Golden Pond (1981)',\n",
       " 'Return of the Pink Panther, The (1974)',\n",
       " 'Abyss, The (1989)',\n",
       " 'Jean de Florette (1986)',\n",
       " 'Manon of the Spring (Manon des sources) (1986)',\n",
       " 'Private Benjamin (1980)',\n",
       " 'Monty Python and the Holy Grail (1974)',\n",
       " 'Wrong Trousers, The (1993)',\n",
       " 'Cinema Paradiso (1988)',\n",
       " 'Delicatessen (1991)',\n",
       " 'Empire Strikes Back, The (1980)',\n",
       " 'Princess Bride, The (1987)',\n",
       " 'Raiders of the Lost Ark (1981)',\n",
       " 'Brazil (1985)',\n",
       " 'Aliens (1986)',\n",
       " 'Good, The Bad and The Ugly, The (1966)',\n",
       " '12 Angry Men (1957)',\n",
       " 'Clockwork Orange, A (1971)',\n",
       " 'Apocalypse Now (1979)',\n",
       " 'Return of the Jedi (1983)',\n",
       " 'GoodFellas (1990)',\n",
       " 'Alien (1979)',\n",
       " 'Army of Darkness (1993)',\n",
       " 'Psycho (1960)',\n",
       " 'Blues Brothers, The (1980)',\n",
       " 'Godfather: Part II, The (1974)',\n",
       " 'Full Metal Jacket (1987)',\n",
       " 'Grand Day Out, A (1992)',\n",
       " 'Henry V (1989)',\n",
       " 'Amadeus (1984)',\n",
       " 'Raging Bull (1980)',\n",
       " 'Right Stuff, The (1983)',\n",
       " 'Sting, The (1973)',\n",
       " 'Terminator, The (1984)',\n",
       " 'Dead Poets Society (1989)',\n",
       " 'Graduate, The (1967)',\n",
       " 'Nikita (La Femme Nikita) (1990)',\n",
       " 'Bridge on the River Kwai, The (1957)',\n",
       " 'Shining, The (1980)',\n",
       " 'Evil Dead II (1987)',\n",
       " 'Groundhog Day (1993)',\n",
       " 'Unforgiven (1992)',\n",
       " 'Back to the Future (1985)',\n",
       " 'Patton (1970)',\n",
       " 'Akira (1988)',\n",
       " 'Cyrano de Bergerac (1990)',\n",
       " 'Young Frankenstein (1974)',\n",
       " 'This Is Spinal Tap (1984)',\n",
       " 'Indiana Jones and the Last Crusade (1989)',\n",
       " 'M*A*S*H (1970)',\n",
       " 'Unbearable Lightness of Being, The (1988)',\n",
       " 'Room with a View, A (1986)',\n",
       " 'Pink Floyd - The Wall (1982)',\n",
       " 'Field of Dreams (1989)',\n",
       " 'When Harry Met Sally... (1989)',\n",
       " \"Bram Stoker's Dracula (1992)\",\n",
       " 'Cape Fear (1991)',\n",
       " 'Nightmare on Elm Street, A (1984)',\n",
       " 'Mirror Has Two Faces, The (1996)',\n",
       " 'Breaking the Waves (1996)',\n",
       " 'Star Trek: First Contact (1996)',\n",
       " 'Sling Blade (1996)',\n",
       " 'Ridicule (1996)',\n",
       " '101 Dalmatians (1996)',\n",
       " 'Die Hard 2 (1990)',\n",
       " 'Star Trek VI: The Undiscovered Country (1991)',\n",
       " 'Star Trek: The Wrath of Khan (1982)',\n",
       " 'Star Trek III: The Search for Spock (1984)',\n",
       " 'Star Trek IV: The Voyage Home (1986)',\n",
       " 'Batman Returns (1992)',\n",
       " 'Young Guns (1988)',\n",
       " 'Under Siege (1992)',\n",
       " 'Jaws (1975)',\n",
       " 'Mars Attacks! (1996)',\n",
       " 'Citizen Ruth (1996)',\n",
       " 'Jerry Maguire (1996)',\n",
       " 'Raising Arizona (1987)',\n",
       " 'Sneakers (1992)',\n",
       " 'Beavis and Butt-head Do America (1996)',\n",
       " 'Last of the Mohicans, The (1992)',\n",
       " 'Kolya (1996)',\n",
       " 'Jungle2Jungle (1997)',\n",
       " \"Smilla's Sense of Snow (1997)\",\n",
       " \"Devil's Own, The (1997)\",\n",
       " 'Chasing Amy (1997)',\n",
       " 'Turbo: A Power Rangers Movie (1997)',\n",
       " 'Grosse Pointe Blank (1997)',\n",
       " 'Austin Powers: International Man of Mystery (1997)',\n",
       " 'Fifth Element, The (1997)',\n",
       " 'Shall We Dance? (1996)',\n",
       " 'Lost World: Jurassic Park, The (1997)',\n",
       " 'Pillow Book, The (1995)',\n",
       " 'Batman & Robin (1997)',\n",
       " \"My Best Friend's Wedding (1997)\",\n",
       " 'When the Cats Away (Chacun cherche son chat) (1996)',\n",
       " 'Men in Black (1997)',\n",
       " 'Contact (1997)',\n",
       " 'George of the Jungle (1997)',\n",
       " 'Event Horizon (1997)',\n",
       " 'Air Bud (1997)',\n",
       " 'In the Company of Men (1997)',\n",
       " 'Steel (1997)',\n",
       " 'Mimic (1997)',\n",
       " 'Hunt for Red October, The (1990)',\n",
       " 'Kull the Conqueror (1997)',\n",
       " 'unknown',\n",
       " 'Chasing Amy (1997)',\n",
       " 'Full Monty, The (1997)',\n",
       " 'Gattaca (1997)',\n",
       " 'Starship Troopers (1997)',\n",
       " 'Good Will Hunting (1997)',\n",
       " 'Heat (1995)',\n",
       " 'Sabrina (1995)',\n",
       " 'Sense and Sensibility (1995)',\n",
       " 'Leaving Las Vegas (1995)',\n",
       " 'Restoration (1995)',\n",
       " 'Bed of Roses (1996)',\n",
       " 'Once Upon a Time... When We Were Colored (1995)',\n",
       " 'Up Close and Personal (1996)',\n",
       " 'River Wild, The (1994)',\n",
       " 'Time to Kill, A (1996)',\n",
       " 'Emma (1996)',\n",
       " 'Tin Cup (1996)',\n",
       " 'Secrets & Lies (1996)',\n",
       " 'English Patient, The (1996)',\n",
       " \"Marvin's Room (1996)\",\n",
       " 'Scream (1996)',\n",
       " 'Evita (1996)',\n",
       " 'Fierce Creatures (1997)',\n",
       " 'Absolute Power (1997)',\n",
       " 'Rosewood (1997)',\n",
       " 'Donnie Brasco (1997)',\n",
       " 'Liar Liar (1997)',\n",
       " 'Breakdown (1997)',\n",
       " 'Promesse, La (1996)',\n",
       " \"Ulee's Gold (1997)\",\n",
       " 'Face/Off (1997)',\n",
       " 'Hoodlum (1997)',\n",
       " 'Air Force One (1997)',\n",
       " 'In & Out (1997)',\n",
       " 'L.A. Confidential (1997)',\n",
       " \"Ulee's Gold (1997)\",\n",
       " 'Fly Away Home (1996)',\n",
       " 'Ice Storm, The (1997)',\n",
       " 'Mrs. Brown (Her Majesty, Mrs. Brown) (1997)',\n",
       " \"Devil's Advocate, The (1997)\",\n",
       " 'FairyTale: A True Story (1997)',\n",
       " 'Deceiver (1997)',\n",
       " 'Rainmaker, The (1997)',\n",
       " 'Wings of the Dove, The (1997)',\n",
       " 'Midnight in the Garden of Good and Evil (1997)',\n",
       " 'Titanic (1997)',\n",
       " '3 Ninjas: High Noon At Mega Mountain (1998)',\n",
       " 'Apt Pupil (1998)',\n",
       " 'As Good As It Gets (1997)',\n",
       " 'In the Name of the Father (1993)',\n",
       " \"Schindler's List (1993)\",\n",
       " 'Everyone Says I Love You (1996)',\n",
       " 'Paradise Lost: The Child Murders at Robin Hood Hills (1996)',\n",
       " 'Mother (1996)',\n",
       " 'Murder at 1600 (1997)',\n",
       " \"Dante's Peak (1997)\",\n",
       " 'Lost Highway (1997)',\n",
       " 'Crash (1996)',\n",
       " 'G.I. Jane (1997)',\n",
       " 'Cop Land (1997)',\n",
       " 'Conspiracy Theory (1997)',\n",
       " 'Desperate Measures (1998)',\n",
       " '187 (1997)',\n",
       " 'Edge, The (1997)',\n",
       " 'Kiss the Girls (1997)',\n",
       " 'Game, The (1997)',\n",
       " 'U Turn (1997)',\n",
       " 'How to Be a Player (1997)',\n",
       " 'Playing God (1997)',\n",
       " 'House of Yes, The (1997)',\n",
       " 'Bean (1997)',\n",
       " 'Mad City (1997)',\n",
       " 'Boogie Nights (1997)',\n",
       " 'Critical Care (1997)',\n",
       " 'Man Who Knew Too Little, The (1997)',\n",
       " 'Alien: Resurrection (1997)',\n",
       " 'Apostle, The (1997)',\n",
       " 'Deconstructing Harry (1997)',\n",
       " 'Jackie Brown (1997)',\n",
       " 'Wag the Dog (1997)',\n",
       " 'Desperate Measures (1998)',\n",
       " 'Hard Rain (1998)',\n",
       " 'Fallen (1998)',\n",
       " 'Prophecy II, The (1998)',\n",
       " 'Spice World (1997)',\n",
       " 'Deep Rising (1998)',\n",
       " 'Wedding Singer, The (1998)',\n",
       " 'Sphere (1998)',\n",
       " 'Client, The (1994)',\n",
       " \"One Flew Over the Cuckoo's Nest (1975)\",\n",
       " 'Spawn (1997)',\n",
       " 'Assignment, The (1997)',\n",
       " 'Wonderland (1997)',\n",
       " 'Incognito (1997)',\n",
       " 'Blues Brothers 2000 (1998)',\n",
       " 'Sudden Death (1995)',\n",
       " 'Ace Ventura: When Nature Calls (1995)',\n",
       " 'Powder (1995)',\n",
       " 'Dangerous Minds (1995)',\n",
       " 'Clueless (1995)',\n",
       " 'Bio-Dome (1996)',\n",
       " 'Black Sheep (1996)',\n",
       " 'Mary Reilly (1996)',\n",
       " 'Bridges of Madison County, The (1995)',\n",
       " 'Jeffrey (1995)',\n",
       " 'Judge Dredd (1995)',\n",
       " 'Mighty Morphin Power Rangers: The Movie (1995)',\n",
       " 'Showgirls (1995)',\n",
       " 'Houseguest (1994)',\n",
       " 'Heavyweights (1994)',\n",
       " 'Miracle on 34th Street (1994)',\n",
       " 'Tales From the Crypt Presents: Demon Knight (1995)',\n",
       " 'Star Trek: Generations (1994)',\n",
       " \"Muriel's Wedding (1994)\",\n",
       " 'Adventures of Priscilla, Queen of the Desert, The (1994)',\n",
       " 'Flintstones, The (1994)',\n",
       " 'Naked Gun 33 1/3: The Final Insult (1994)',\n",
       " 'True Lies (1994)',\n",
       " 'Addams Family Values (1993)',\n",
       " 'Age of Innocence, The (1993)',\n",
       " 'Beverly Hills Cop III (1994)',\n",
       " 'Black Beauty (1994)',\n",
       " 'Fear of a Black Hat (1993)',\n",
       " 'Last Action Hero (1993)',\n",
       " 'Man Without a Face, The (1993)',\n",
       " 'Mrs. Doubtfire (1993)',\n",
       " 'Radioland Murders (1994)',\n",
       " 'Robin Hood: Men in Tights (1993)',\n",
       " 'Serial Mom (1994)',\n",
       " 'Striking Distance (1993)',\n",
       " 'Super Mario Bros. (1993)',\n",
       " 'Three Musketeers, The (1993)',\n",
       " 'Little Rascals, The (1994)',\n",
       " 'Brady Bunch Movie, The (1995)',\n",
       " 'Ghost (1990)',\n",
       " 'Batman (1989)',\n",
       " 'Pinocchio (1940)',\n",
       " 'Mission: Impossible (1996)',\n",
       " 'Thinner (1996)',\n",
       " 'Spy Hard (1996)',\n",
       " 'Close Shave, A (1995)',\n",
       " 'Jack (1996)',\n",
       " 'Kingpin (1996)',\n",
       " 'Nutty Professor, The (1996)',\n",
       " 'Very Brady Sequel, A (1996)',\n",
       " 'Tales from the Crypt Presents: Bordello of Blood (1996)',\n",
       " 'My Favorite Year (1982)',\n",
       " 'Apple Dumpling Gang, The (1975)',\n",
       " 'Old Yeller (1957)',\n",
       " 'Parent Trap, The (1961)',\n",
       " 'Cinderella (1950)',\n",
       " 'Mary Poppins (1964)',\n",
       " 'Alice in Wonderland (1951)',\n",
       " \"William Shakespeare's Romeo and Juliet (1996)\",\n",
       " 'Aladdin and the King of Thieves (1996)',\n",
       " 'E.T. the Extra-Terrestrial (1982)',\n",
       " 'Children of the Corn: The Gathering (1996)',\n",
       " 'Bob Roberts (1992)',\n",
       " 'Transformers: The Movie, The (1986)',\n",
       " 'To Kill a Mockingbird (1962)',\n",
       " 'Harold and Maude (1971)',\n",
       " 'Day the Earth Stood Still, The (1951)',\n",
       " 'Duck Soup (1933)',\n",
       " 'Highlander (1986)',\n",
       " 'Fantasia (1940)',\n",
       " 'Heathers (1989)',\n",
       " 'Forbidden Planet (1956)',\n",
       " 'Butch Cassidy and the Sundance Kid (1969)',\n",
       " 'American Werewolf in London, An (1981)',\n",
       " \"Amityville 1992: It's About Time (1992)\",\n",
       " 'Amityville 3-D (1983)',\n",
       " 'Amityville: A New Generation (1993)',\n",
       " 'Amityville II: The Possession (1982)',\n",
       " 'Amityville Horror, The (1979)',\n",
       " 'Amityville Curse, The (1990)',\n",
       " 'Birds, The (1963)',\n",
       " 'Blob, The (1958)',\n",
       " 'Body Snatcher, The (1945)',\n",
       " 'Burnt Offerings (1976)',\n",
       " 'Carrie (1976)',\n",
       " 'Omen, The (1976)',\n",
       " 'Star Trek: The Motion Picture (1979)',\n",
       " 'Star Trek V: The Final Frontier (1989)',\n",
       " 'Grease (1978)',\n",
       " 'Jaws 2 (1978)',\n",
       " 'Jaws 3-D (1983)',\n",
       " 'Bastard Out of Carolina (1996)',\n",
       " \"Jackie Chan's First Strike (1996)\",\n",
       " 'Beverly Hills Ninja (1997)',\n",
       " 'Free Willy 3: The Rescue (1997)',\n",
       " 'Nixon (1995)',\n",
       " 'Cry, the Beloved Country (1995)',\n",
       " 'Crossing Guard, The (1995)',\n",
       " 'Smoke (1995)',\n",
       " 'Like Water For Chocolate (Como agua para chocolate) (1992)',\n",
       " 'Secret of Roan Inish, The (1994)',\n",
       " 'Vanya on 42nd Street (1994)',\n",
       " 'Jungle Book, The (1994)',\n",
       " 'Red Rock West (1992)',\n",
       " 'Bronx Tale, A (1993)',\n",
       " 'Rudy (1993)',\n",
       " 'Short Cuts (1993)',\n",
       " 'Tombstone (1993)',\n",
       " 'Courage Under Fire (1996)',\n",
       " 'Dragonheart (1996)',\n",
       " 'James and the Giant Peach (1996)',\n",
       " 'Dr. Strangelove or: How I Learned to Stop Worrying and Love the Bomb (1963)',\n",
       " 'Trainspotting (1996)',\n",
       " 'First Wives Club, The (1996)',\n",
       " 'Matilda (1996)',\n",
       " 'Philadelphia Story, The (1940)',\n",
       " 'Vertigo (1958)',\n",
       " 'North by Northwest (1959)',\n",
       " 'Apartment, The (1960)',\n",
       " 'Some Like It Hot (1959)',\n",
       " 'Casablanca (1942)',\n",
       " 'Maltese Falcon, The (1941)',\n",
       " 'My Fair Lady (1964)',\n",
       " 'Sabrina (1954)',\n",
       " 'Roman Holiday (1953)',\n",
       " 'Sunset Blvd. (1950)',\n",
       " 'Notorious (1946)',\n",
       " 'To Catch a Thief (1955)',\n",
       " 'Adventures of Robin Hood, The (1938)',\n",
       " 'East of Eden (1955)',\n",
       " 'Thin Man, The (1934)',\n",
       " 'His Girl Friday (1940)',\n",
       " 'Around the World in 80 Days (1956)',\n",
       " \"It's a Wonderful Life (1946)\",\n",
       " 'Bringing Up Baby (1938)',\n",
       " 'African Queen, The (1951)',\n",
       " 'Cat on a Hot Tin Roof (1958)',\n",
       " 'Fly Away Home (1996)',\n",
       " 'Dumbo (1941)',\n",
       " 'Bananas (1971)',\n",
       " 'Candidate, The (1972)',\n",
       " 'Bonnie and Clyde (1967)',\n",
       " 'Dial M for Murder (1954)',\n",
       " 'Rebel Without a Cause (1955)',\n",
       " 'Streetcar Named Desire, A (1951)',\n",
       " 'People vs. Larry Flynt, The (1996)',\n",
       " 'My Left Foot (1989)',\n",
       " 'Magnificent Seven, The (1954)',\n",
       " 'Lawrence of Arabia (1962)',\n",
       " 'Wings of Desire (1987)',\n",
       " 'Third Man, The (1949)',\n",
       " 'Annie Hall (1977)',\n",
       " 'Boot, Das (1981)',\n",
       " 'Local Hero (1983)',\n",
       " 'Manhattan (1979)',\n",
       " \"Miller's Crossing (1990)\",\n",
       " 'Treasure of the Sierra Madre, The (1948)',\n",
       " 'Great Escape, The (1963)',\n",
       " 'Deer Hunter, The (1978)',\n",
       " 'Down by Law (1986)',\n",
       " 'Cool Hand Luke (1967)',\n",
       " 'Great Dictator, The (1940)',\n",
       " 'Big Sleep, The (1946)',\n",
       " 'Ben-Hur (1959)',\n",
       " 'Gandhi (1982)',\n",
       " 'Killing Fields, The (1984)',\n",
       " 'My Life as a Dog (Mitt liv som hund) (1985)',\n",
       " 'Man Who Would Be King, The (1975)',\n",
       " 'Shine (1996)',\n",
       " 'Kama Sutra: A Tale of Love (1996)',\n",
       " 'Daytrippers, The (1996)',\n",
       " 'Traveller (1997)',\n",
       " 'Addicted to Love (1997)',\n",
       " 'Ponette (1996)',\n",
       " 'My Own Private Idaho (1991)',\n",
       " 'Anastasia (1997)',\n",
       " 'Mouse Hunt (1997)',\n",
       " 'Money Train (1995)',\n",
       " 'Mortal Kombat (1995)',\n",
       " 'Pocahontas (1995)',\n",
       " 'Misérables, Les (1995)',\n",
       " \"Things to Do in Denver when You're Dead (1995)\",\n",
       " 'Vampire in Brooklyn (1995)',\n",
       " 'Broken Arrow (1996)',\n",
       " \"Young Poisoner's Handbook, The (1995)\",\n",
       " 'NeverEnding Story III, The (1994)',\n",
       " 'Rob Roy (1995)',\n",
       " 'Die Hard: With a Vengeance (1995)',\n",
       " 'Lord of Illusions (1995)',\n",
       " 'Species (1995)',\n",
       " 'Walk in the Clouds, A (1995)',\n",
       " 'Waterworld (1995)',\n",
       " \"White Man's Burden (1995)\",\n",
       " 'Wild Bill (1995)',\n",
       " 'Farinelli: il castrato (1994)',\n",
       " 'Heavenly Creatures (1994)',\n",
       " 'Interview with the Vampire (1994)',\n",
       " \"Kid in King Arthur's Court, A (1995)\",\n",
       " \"Mary Shelley's Frankenstein (1994)\",\n",
       " 'Quick and the Dead, The (1995)',\n",
       " \"Stephen King's The Langoliers (1995)\",\n",
       " 'Tales from the Hood (1995)',\n",
       " 'Village of the Damned (1995)',\n",
       " 'Clear and Present Danger (1994)',\n",
       " \"Wes Craven's New Nightmare (1994)\",\n",
       " 'Speed (1994)',\n",
       " 'Wolf (1994)',\n",
       " 'Wyatt Earp (1994)',\n",
       " 'Another Stakeout (1993)',\n",
       " 'Blown Away (1994)',\n",
       " 'Body Snatchers (1993)',\n",
       " 'Boxing Helena (1993)',\n",
       " \"City Slickers II: The Legend of Curly's Gold (1994)\",\n",
       " 'Cliffhanger (1993)',\n",
       " 'Coneheads (1993)',\n",
       " 'Demolition Man (1993)',\n",
       " 'Fatal Instinct (1993)',\n",
       " 'Englishman Who Went Up a Hill, But Came Down a Mountain, The (1995)',\n",
       " 'Kalifornia (1993)',\n",
       " 'Piano, The (1993)',\n",
       " 'Romeo Is Bleeding (1993)',\n",
       " 'Secret Garden, The (1993)',\n",
       " 'Son in Law (1993)',\n",
       " 'Terminal Velocity (1994)',\n",
       " 'Hour of the Pig, The (1993)',\n",
       " 'Beauty and the Beast (1991)',\n",
       " 'Wild Bunch, The (1969)',\n",
       " 'Hellraiser: Bloodline (1996)',\n",
       " 'Primal Fear (1996)',\n",
       " 'True Crime (1995)',\n",
       " 'Stalingrad (1993)',\n",
       " 'Heavy (1995)',\n",
       " 'Fan, The (1996)',\n",
       " 'Hunchback of Notre Dame, The (1996)',\n",
       " 'Eraser (1996)',\n",
       " 'Big Squeeze, The (1996)',\n",
       " 'Police Story 4: Project S (Chao ji ji hua) (1993)',\n",
       " \"Daniel Defoe's Robinson Crusoe (1996)\",\n",
       " 'For Whom the Bell Tolls (1943)',\n",
       " 'American in Paris, An (1951)',\n",
       " 'Rear Window (1954)',\n",
       " 'It Happened One Night (1934)',\n",
       " 'Meet Me in St. Louis (1944)',\n",
       " 'All About Eve (1950)',\n",
       " 'Rebecca (1940)',\n",
       " 'Spellbound (1945)',\n",
       " 'Father of the Bride (1950)',\n",
       " 'Gigi (1958)',\n",
       " 'Laura (1944)',\n",
       " 'Lost Horizon (1937)',\n",
       " 'My Man Godfrey (1936)',\n",
       " 'Giant (1956)',\n",
       " '39 Steps, The (1935)',\n",
       " 'Night of the Living Dead (1968)',\n",
       " 'Blue Angel, The (Blaue Engel, Der) (1930)',\n",
       " 'Picnic (1955)',\n",
       " 'Extreme Measures (1996)',\n",
       " 'Chamber, The (1996)',\n",
       " 'Davy Crockett, King of the Wild Frontier (1955)',\n",
       " 'Swiss Family Robinson (1960)',\n",
       " 'Angels in the Outfield (1994)',\n",
       " 'Three Caballeros, The (1945)',\n",
       " 'Sword in the Stone, The (1963)',\n",
       " 'So Dear to My Heart (1949)',\n",
       " 'Robin Hood: Prince of Thieves (1991)',\n",
       " 'Sleepers (1996)',\n",
       " 'Victor/Victoria (1982)',\n",
       " 'Great Race, The (1965)',\n",
       " 'Crying Game, The (1992)',\n",
       " \"Sophie's Choice (1982)\",\n",
       " 'Christmas Carol, A (1938)',\n",
       " \"Microcosmos: Le peuple de l'herbe (1996)\",\n",
       " 'Fog, The (1980)',\n",
       " 'Escape from New York (1981)',\n",
       " 'Howling, The (1981)',\n",
       " 'Return of Martin Guerre, The (Retour de Martin Guerre, Le) (1982)',\n",
       " 'Tin Drum, The (Blechtrommel, Die) (1979)',\n",
       " 'Cook the Thief His Wife & Her Lover, The (1989)',\n",
       " 'Paths of Glory (1957)',\n",
       " 'Grifters, The (1990)',\n",
       " 'The Innocent (1994)',\n",
       " 'Thin Blue Line, The (1988)',\n",
       " 'Paris Is Burning (1990)',\n",
       " 'Once Upon a Time in the West (1969)',\n",
       " 'Ran (1985)',\n",
       " 'Quiet Man, The (1952)',\n",
       " 'Once Upon a Time in America (1984)',\n",
       " 'Seventh Seal, The (Sjunde inseglet, Det) (1957)',\n",
       " 'Glory (1989)',\n",
       " 'Rosencrantz and Guildenstern Are Dead (1990)',\n",
       " 'Touch of Evil (1958)',\n",
       " 'Chinatown (1974)',\n",
       " 'Stand by Me (1986)',\n",
       " 'M (1931)',\n",
       " 'Manchurian Candidate, The (1962)',\n",
       " 'Pump Up the Volume (1990)',\n",
       " 'Arsenic and Old Lace (1944)',\n",
       " 'Fried Green Tomatoes (1991)',\n",
       " 'High Noon (1952)',\n",
       " 'Somewhere in Time (1980)',\n",
       " 'Being There (1979)',\n",
       " 'Paris, Texas (1984)',\n",
       " 'Alien 3 (1992)',\n",
       " \"Blood For Dracula (Andy Warhol's Dracula) (1974)\",\n",
       " 'Audrey Rose (1977)',\n",
       " 'Blood Beach (1981)',\n",
       " 'Body Parts (1991)',\n",
       " 'Body Snatchers (1993)',\n",
       " 'Bride of Frankenstein (1935)',\n",
       " 'Candyman (1992)',\n",
       " 'Cape Fear (1962)',\n",
       " 'Cat People (1982)',\n",
       " 'Nosferatu (Nosferatu, eine Symphonie des Grauens) (1922)',\n",
       " 'Crucible, The (1996)',\n",
       " 'Fire on the Mountain (1996)',\n",
       " 'Volcano (1997)',\n",
       " 'Conan the Barbarian (1981)',\n",
       " 'Kull the Conqueror (1997)',\n",
       " 'Wishmaster (1997)',\n",
       " 'I Know What You Did Last Summer (1997)',\n",
       " 'Rocket Man (1997)',\n",
       " 'In the Line of Fire (1993)',\n",
       " 'Executive Decision (1996)',\n",
       " 'Perfect World, A (1993)',\n",
       " \"McHale's Navy (1997)\",\n",
       " 'Leave It to Beaver (1997)',\n",
       " 'Jackal, The (1997)',\n",
       " 'Seven Years in Tibet (1997)',\n",
       " 'Dark City (1998)',\n",
       " 'American President, The (1995)',\n",
       " 'Casino (1995)',\n",
       " 'Persuasion (1995)',\n",
       " 'Kicking and Screaming (1995)',\n",
       " 'City Hall (1996)',\n",
       " 'Basketball Diaries, The (1995)',\n",
       " 'Browning Version, The (1994)',\n",
       " 'Little Women (1994)',\n",
       " 'Miami Rhapsody (1995)',\n",
       " 'Wonderful, Horrible Life of Leni Riefenstahl, The (1993)',\n",
       " 'Barcelona (1994)',\n",
       " \"Widows' Peak (1994)\",\n",
       " 'House of the Spirits, The (1993)',\n",
       " \"Singin' in the Rain (1952)\",\n",
       " 'Bad Moon (1996)',\n",
       " 'Enchanted April (1991)',\n",
       " 'Sex, Lies, and Videotape (1989)',\n",
       " 'Strictly Ballroom (1992)',\n",
       " 'Better Off Dead... (1985)',\n",
       " 'Substance of Fire, The (1996)',\n",
       " 'Tin Men (1987)',\n",
       " 'Othello (1995)',\n",
       " 'Carrington (1995)',\n",
       " 'To Die For (1995)',\n",
       " 'Home for the Holidays (1995)',\n",
       " 'Juror, The (1996)',\n",
       " 'In the Bleak Midwinter (1995)',\n",
       " 'Canadian Bacon (1994)',\n",
       " 'First Knight (1995)',\n",
       " 'Mallrats (1995)',\n",
       " 'Nine Months (1995)',\n",
       " 'Boys on the Side (1995)',\n",
       " 'Circle of Friends (1995)',\n",
       " 'Exit to Eden (1994)',\n",
       " 'Fluke (1995)',\n",
       " 'Immortal Beloved (1994)',\n",
       " 'Junior (1994)',\n",
       " 'Nell (1994)',\n",
       " 'Queen Margot (Reine Margot, La) (1994)',\n",
       " 'Corrina, Corrina (1994)',\n",
       " 'Dave (1993)',\n",
       " 'Go Fish (1994)',\n",
       " 'Made in America (1993)',\n",
       " 'Philadelphia (1993)',\n",
       " 'Shadowlands (1993)',\n",
       " 'Sirens (1994)',\n",
       " 'Threesome (1994)',\n",
       " 'Pretty Woman (1990)',\n",
       " 'Jane Eyre (1996)',\n",
       " 'Last Supper, The (1995)',\n",
       " 'Ransom (1996)',\n",
       " 'Crow: City of Angels, The (1996)',\n",
       " 'Michael Collins (1996)',\n",
       " 'Ruling Class, The (1972)',\n",
       " 'Real Genius (1985)',\n",
       " 'Benny & Joon (1993)',\n",
       " 'Saint, The (1997)',\n",
       " 'MatchMaker, The (1997)',\n",
       " 'Amistad (1997)',\n",
       " 'Tomorrow Never Dies (1997)',\n",
       " 'Replacement Killers, The (1998)',\n",
       " 'Burnt By the Sun (1994)',\n",
       " 'Red Corner (1997)',\n",
       " 'Jumanji (1995)',\n",
       " 'Father of the Bride Part II (1995)',\n",
       " 'Across the Sea of Time (1995)',\n",
       " 'Lawnmower Man 2: Beyond Cyberspace (1996)',\n",
       " 'Fair Game (1995)',\n",
       " 'Screamers (1995)',\n",
       " 'Nick of Time (1995)',\n",
       " 'Beautiful Girls (1996)',\n",
       " 'Happy Gilmore (1996)',\n",
       " 'If Lucy Fell (1996)',\n",
       " 'Boomerang (1992)',\n",
       " 'Man of the Year (1995)',\n",
       " 'Addiction, The (1995)',\n",
       " 'Casper (1995)',\n",
       " 'Congo (1995)',\n",
       " 'Devil in a Blue Dress (1995)',\n",
       " 'Johnny Mnemonic (1995)',\n",
       " 'Kids (1995)',\n",
       " 'Mute Witness (1994)',\n",
       " 'Prophecy, The (1995)',\n",
       " 'Something to Talk About (1995)',\n",
       " 'Three Wishes (1995)',\n",
       " 'Castle Freak (1995)',\n",
       " 'Don Juan DeMarco (1995)',\n",
       " 'Drop Zone (1994)',\n",
       " 'Dumb & Dumber (1994)',\n",
       " 'French Kiss (1995)',\n",
       " 'Little Odessa (1994)',\n",
       " 'Milk Money (1994)',\n",
       " 'Beyond Bedlam (1993)',\n",
       " 'Only You (1994)',\n",
       " 'Perez Family, The (1995)',\n",
       " 'Roommates (1995)',\n",
       " 'Relative Fear (1994)',\n",
       " 'Swimming with Sharks (1995)',\n",
       " 'Tommy Boy (1995)',\n",
       " 'Baby-Sitters Club, The (1995)',\n",
       " 'Bullets Over Broadway (1994)',\n",
       " 'Crooklyn (1994)',\n",
       " 'It Could Happen to You (1994)',\n",
       " 'Richie Rich (1994)',\n",
       " 'Speechless (1994)',\n",
       " 'Timecop (1994)',\n",
       " 'Bad Company (1995)',\n",
       " 'Boys Life (1995)',\n",
       " 'In the Mouth of Madness (1995)',\n",
       " 'Air Up There, The (1994)',\n",
       " 'Hard Target (1993)',\n",
       " 'Heaven & Earth (1993)',\n",
       " 'Jimmy Hollywood (1994)',\n",
       " 'Manhattan Murder Mystery (1993)',\n",
       " 'Menace II Society (1993)',\n",
       " 'Poetic Justice (1993)',\n",
       " 'Program, The (1993)',\n",
       " 'Rising Sun (1993)',\n",
       " 'Shadow, The (1994)',\n",
       " 'Thirty-Two Short Films About Glenn Gould (1993)',\n",
       " 'Andre (1994)',\n",
       " 'Celluloid Closet, The (1995)',\n",
       " 'Great Day in Harlem, A (1994)',\n",
       " 'One Fine Day (1996)',\n",
       " 'Candyman: Farewell to the Flesh (1995)',\n",
       " 'Frisk (1995)',\n",
       " 'Girl 6 (1996)',\n",
       " 'Eddie (1996)',\n",
       " 'Space Jam (1996)',\n",
       " 'Mrs. Winterbourne (1996)',\n",
       " 'Faces (1968)',\n",
       " 'Mulholland Falls (1996)',\n",
       " 'Great White Hype, The (1996)',\n",
       " 'Arrival, The (1996)',\n",
       " 'Phantom, The (1996)',\n",
       " 'Daylight (1996)',\n",
       " 'Alaska (1996)',\n",
       " 'Fled (1996)',\n",
       " 'Power 98 (1995)',\n",
       " 'Escape from L.A. (1996)',\n",
       " 'Bogus (1996)',\n",
       " 'Bulletproof (1996)',\n",
       " 'Halloween: The Curse of Michael Myers (1995)',\n",
       " 'Gay Divorcee, The (1934)',\n",
       " 'Ninotchka (1939)',\n",
       " 'Meet John Doe (1941)',\n",
       " 'In the Line of Duty 2 (1987)',\n",
       " 'Loch Ness (1995)',\n",
       " 'Last Man Standing (1996)',\n",
       " 'Glimmer Man, The (1996)',\n",
       " 'Pollyanna (1960)',\n",
       " 'Shaggy Dog, The (1959)',\n",
       " 'Freeway (1996)',\n",
       " 'That Thing You Do! (1996)',\n",
       " 'To Gillian on Her 37th Birthday (1996)',\n",
       " 'Looking for Richard (1996)',\n",
       " 'Murder, My Sweet (1944)',\n",
       " 'Days of Thunder (1990)',\n",
       " 'Perfect Candidate, A (1996)',\n",
       " 'Two or Three Things I Know About Her (1966)',\n",
       " 'Bloody Child, The (1996)',\n",
       " 'Braindead (1992)',\n",
       " 'Bad Taste (1987)',\n",
       " 'Diva (1981)',\n",
       " 'Night on Earth (1991)',\n",
       " 'Paris Was a Woman (1995)',\n",
       " 'Amityville: Dollhouse (1996)',\n",
       " \"April Fool's Day (1986)\",\n",
       " 'Believers, The (1987)',\n",
       " 'Nosferatu a Venezia (1986)',\n",
       " 'Jingle All the Way (1996)',\n",
       " 'Garden of Finzi-Contini, The (Giardino dei Finzi-Contini, Il) (1970)',\n",
       " 'My Fellow Americans (1996)',\n",
       " 'Ice Storm, The (1997)',\n",
       " 'Michael (1996)',\n",
       " 'Whole Wide World, The (1996)',\n",
       " 'Hearts and Minds (1996)',\n",
       " 'Fools Rush In (1997)',\n",
       " 'Touch (1997)',\n",
       " 'Vegas Vacation (1997)',\n",
       " 'Love Jones (1997)',\n",
       " 'Picture Perfect (1997)',\n",
       " 'Career Girls (1997)',\n",
       " \"She's So Lovely (1997)\",\n",
       " 'Money Talks (1997)',\n",
       " 'Excess Baggage (1997)',\n",
       " 'That Darn Cat! (1997)',\n",
       " 'Peacemaker, The (1997)',\n",
       " 'Soul Food (1997)',\n",
       " 'Money Talks (1997)',\n",
       " 'Washington Square (1997)',\n",
       " 'Telling Lies in America (1997)',\n",
       " 'Year of the Horse (1997)',\n",
       " 'Phantoms (1998)',\n",
       " 'Life Less Ordinary, A (1997)',\n",
       " \"Eve's Bayou (1997)\",\n",
       " 'One Night Stand (1997)',\n",
       " 'Tango Lesson, The (1997)',\n",
       " 'Mortal Kombat: Annihilation (1997)',\n",
       " 'Bent (1997)',\n",
       " 'Flubber (1997)',\n",
       " 'For Richer or Poorer (1997)',\n",
       " 'Home Alone 3 (1997)',\n",
       " 'Scream 2 (1997)',\n",
       " 'Sweet Hereafter, The (1997)',\n",
       " 'Time Tracers (1995)',\n",
       " 'Postman, The (1997)',\n",
       " 'Winter Guest, The (1997)',\n",
       " 'Kundun (1997)',\n",
       " 'Mr. Magoo (1997)',\n",
       " 'Big Lebowski, The (1998)',\n",
       " 'Afterglow (1997)',\n",
       " 'Ma vie en rose (My Life in Pink) (1997)',\n",
       " 'Great Expectations (1998)',\n",
       " 'Oscar & Lucinda (1997)',\n",
       " 'Vermin (1998)',\n",
       " 'Half Baked (1998)',\n",
       " 'Dangerous Beauty (1998)',\n",
       " 'Nil By Mouth (1997)',\n",
       " 'Twilight (1998)',\n",
       " 'U.S. Marshalls (1998)',\n",
       " 'Love and Death on Long Island (1997)',\n",
       " 'Wild Things (1998)',\n",
       " 'Primary Colors (1998)',\n",
       " 'Lost in Space (1998)',\n",
       " 'Mercury Rising (1998)',\n",
       " 'City of Angels (1998)',\n",
       " 'City of Lost Children, The (1995)',\n",
       " 'Two Bits (1995)',\n",
       " 'Farewell My Concubine (1993)',\n",
       " 'Dead Man (1995)',\n",
       " 'Raise the Red Lantern (1991)',\n",
       " 'White Squall (1996)',\n",
       " 'Unforgettable (1996)',\n",
       " 'Down Periscope (1996)',\n",
       " 'Flower of My Secret, The (Flor de mi secreto, La) (1995)',\n",
       " 'Craft, The (1996)',\n",
       " 'Harriet the Spy (1996)',\n",
       " 'Chain Reaction (1996)',\n",
       " 'Island of Dr. Moreau, The (1996)',\n",
       " 'First Kid (1996)',\n",
       " 'Funeral, The (1996)',\n",
       " \"Preacher's Wife, The (1996)\",\n",
       " 'Paradise Road (1997)',\n",
       " 'Brassed Off (1996)',\n",
       " 'Thousand Acres, A (1997)',\n",
       " 'Smile Like Yours, A (1997)',\n",
       " 'Murder in the First (1995)',\n",
       " 'Airheads (1994)',\n",
       " 'With Honors (1994)',\n",
       " \"What's Love Got to Do with It (1993)\",\n",
       " 'Killing Zoe (1994)',\n",
       " 'Renaissance Man (1994)',\n",
       " 'Charade (1963)',\n",
       " 'Fox and the Hound, The (1981)',\n",
       " 'Big Blue, The (Grand bleu, Le) (1988)',\n",
       " 'Booty Call (1997)',\n",
       " 'How to Make an American Quilt (1995)',\n",
       " 'Georgia (1995)',\n",
       " 'Indian in the Cupboard, The (1995)',\n",
       " 'Blue in the Face (1995)',\n",
       " 'Unstrung Heroes (1995)',\n",
       " 'Unzipped (1995)',\n",
       " 'Before Sunrise (1995)',\n",
       " \"Nobody's Fool (1994)\",\n",
       " 'Pushing Hands (1992)',\n",
       " 'To Live (Huozhe) (1994)',\n",
       " 'Dazed and Confused (1993)',\n",
       " 'Naked (1993)',\n",
       " 'Orlando (1993)',\n",
       " 'Ruby in Paradise (1993)',\n",
       " 'Some Folks Call It a Sling Blade (1993)',\n",
       " 'Month by the Lake, A (1995)',\n",
       " 'Funny Face (1957)',\n",
       " 'Affair to Remember, An (1957)',\n",
       " 'Little Lord Fauntleroy (1936)',\n",
       " 'Inspector General, The (1949)',\n",
       " 'Winnie the Pooh and the Blustery Day (1968)',\n",
       " 'Hear My Song (1991)',\n",
       " 'Mediterraneo (1991)',\n",
       " 'Passion Fish (1992)',\n",
       " 'Grateful Dead (1995)',\n",
       " 'Eye for an Eye (1996)',\n",
       " 'Fear (1996)',\n",
       " 'Solo (1996)',\n",
       " 'Substitute, The (1996)',\n",
       " \"Heaven's Prisoners (1996)\",\n",
       " 'Trigger Effect, The (1996)',\n",
       " 'Mother Night (1996)',\n",
       " 'Dangerous Ground (1997)',\n",
       " 'Maximum Risk (1996)',\n",
       " \"Rich Man's Wife, The (1996)\",\n",
       " 'Shadow Conspiracy (1997)',\n",
       " 'Blood & Wine (1997)',\n",
       " 'Turbulence (1997)',\n",
       " 'Underworld (1997)',\n",
       " 'Beautician and the Beast, The (1997)',\n",
       " \"Cats Don't Dance (1997)\",\n",
       " 'Anna Karenina (1997)',\n",
       " 'Keys to Tulsa (1997)',\n",
       " 'Head Above Water (1996)',\n",
       " 'Hercules (1997)',\n",
       " 'Last Time I Committed Suicide, The (1997)',\n",
       " 'Kiss Me, Guido (1997)',\n",
       " 'Big Green, The (1995)',\n",
       " 'Stuart Saves His Family (1995)',\n",
       " 'Cabin Boy (1994)',\n",
       " 'Clean Slate (1994)',\n",
       " 'Lightning Jack (1994)',\n",
       " ...]"
      ]
     },
     "execution_count": 54,
     "metadata": {},
     "output_type": "execute_result"
    }
   ],
   "source": [
    "loadMovieList()"
   ]
  },
  {
   "cell_type": "code",
   "execution_count": 55,
   "metadata": {},
   "outputs": [
    {
     "name": "stdout",
     "output_type": "stream",
     "text": [
      "New user ratings:\n",
      "Rated 4.0 for Toy Story (1995)\n",
      "Rated 3.0 for Twelve Monkeys (1995)\n",
      "Rated 5.0 for Usual Suspects, The (1995)\n",
      "Rated 4.0 for Outbreak (1995)\n",
      "Rated 5.0 for Shawshank Redemption, The (1994)\n",
      "Rated 3.0 for While You Were Sleeping (1995)\n",
      "Rated 5.0 for Forrest Gump (1994)\n",
      "Rated 2.0 for Silence of the Lambs, The (1991)\n",
      "Rated 4.0 for Alien (1979)\n",
      "Rated 5.0 for Die Hard 2 (1990)\n",
      "Rated 5.0 for Sphere (1998)\n"
     ]
    }
   ],
   "source": [
    "movieList = loadMovieList()\n",
    "\n",
    "#  Initialize my ratings\n",
    "my_ratings = np.zeros((1682,1))\n",
    "\n",
    "# Check the file movie_idx.txt for id of each movie in our dataset\n",
    "# For example, Toy Story (1995) has ID 1, so to rate it \"4\", you can set\n",
    "my_ratings[0,0] = 4\n",
    "\n",
    "# Or suppose did not enjoy Silence of the Lambs (1991), you can set\n",
    "my_ratings[97,0] = 2\n",
    "\n",
    "# We have selected a few movies we liked / did not like and the ratings we\n",
    "# gave are as follows:\n",
    "my_ratings[6,0] = 3\n",
    "my_ratings[11,0]= 5\n",
    "my_ratings[53,0] = 4\n",
    "my_ratings[63,0]= 5\n",
    "my_ratings[65,0]= 3\n",
    "my_ratings[68,0] = 5\n",
    "my_ratings[182,0] = 4\n",
    "my_ratings[225,0] = 5\n",
    "my_ratings[354,0]= 5\n",
    "\n",
    "print('New user ratings:')\n",
    "for i in range(len(my_ratings)):\n",
    "    if my_ratings[i,0] > 0 :\n",
    "        print(f'Rated {my_ratings[i,0]} for {movieList[i]}')"
   ]
  },
  {
   "cell_type": "markdown",
   "metadata": {},
   "source": [
    "#### 2.3.1 Recommendations"
   ]
  },
  {
   "cell_type": "code",
   "execution_count": 56,
   "metadata": {},
   "outputs": [
    {
     "name": "stdout",
     "output_type": "stream",
     "text": [
      "Training collaborative filtering...\n"
     ]
    }
   ],
   "source": [
    "print('Training collaborative filtering...')\n",
    "\n",
    "#  Load data\n",
    "movies = scipy.io.loadmat('Data/ex8_movies.mat')\n",
    "\n",
    "Y = movies['Y']\n",
    "R = movies['R']\n",
    "\n",
    "#  Y is a 1682x943 matrix, containing ratings (1-5) of 1682 movies by \n",
    "#  943 users\n",
    "#\n",
    "#  R is a 1682x943 matrix, where R(i,j) = 1 if and only if user j gave a\n",
    "#  rating to movie i\n",
    "\n",
    "#  Add our own ratings to the data matrix\n",
    "Y = np.concatenate((my_ratings, Y), axis=1)"
   ]
  },
  {
   "cell_type": "code",
   "execution_count": 57,
   "metadata": {},
   "outputs": [],
   "source": [
    "def normalizeRatings(Y, R):\n",
    "#NORMALIZERATINGS Preprocess data by subtracting mean rating for every \n",
    "#movie (every row)\n",
    "#   [Ynorm, Ymean] = NORMALIZERATINGS(Y, R) normalized Y so that each movie\n",
    "#   has a rating of 0 on average, and returns the mean rating in Ymean.\n",
    "    m, n = Y.shape\n",
    "    Ymean = np.zeros((m, 1))\n",
    "    Ynorm = np.zeros(Y.shape)\n",
    "    for i in range(m):\n",
    "        idx = np.argwhere(R[i, :] == 1)\n",
    "        Ymean[i] = Y[i, idx].mean()\n",
    "        Ynorm[i, idx] = Y[i, idx] - Ymean[i]\n",
    "    return Ynorm, Ymean"
   ]
  },
  {
   "cell_type": "code",
   "execution_count": 58,
   "metadata": {},
   "outputs": [
    {
     "data": {
      "text/plain": [
       "5.462286541176089e-19"
      ]
     },
     "execution_count": 58,
     "metadata": {},
     "output_type": "execute_result"
    }
   ],
   "source": [
    "R = np.concatenate((np.where(my_ratings > 0, 1, 0), R), axis=1)\n",
    "\n",
    "#  Normalize Ratings\n",
    "Ynorm, Ymean = normalizeRatings(Y, R)\n",
    "Ynorm.mean()"
   ]
  },
  {
   "cell_type": "code",
   "execution_count": 59,
   "metadata": {},
   "outputs": [],
   "source": [
    "#  Useful Values\n",
    "num_movies = Y.shape[0]\n",
    "num_users = Y.shape[1]\n",
    "num_features = 10"
   ]
  },
  {
   "cell_type": "code",
   "execution_count": 60,
   "metadata": {},
   "outputs": [
    {
     "data": {
      "text/plain": [
       "     fun: 38952.356976865965\n",
       "     jac: array([-0.08063778, -0.04705353, -0.02685975, ..., -0.00528718,\n",
       "       -0.00208169, -0.00898501])\n",
       " message: 'Maximum number of iterations has been exceeded.'\n",
       "    nfev: 149\n",
       "     nit: 100\n",
       "    njev: 149\n",
       "  status: 1\n",
       " success: False\n",
       "       x: array([ 0.73958812,  0.52116004,  0.40328322, ..., -0.48325478,\n",
       "       -0.31080091,  0.02296173])"
      ]
     },
     "execution_count": 60,
     "metadata": {},
     "output_type": "execute_result"
    }
   ],
   "source": [
    "# Set Initial Parameters (Theta, X)\n",
    "X = np.random.randn(num_movies, num_features)\n",
    "Theta = np.random.randn(num_users, num_features)\n",
    "\n",
    "initial_parameters = np.concatenate((X.flatten(), Theta.flatten()))\n",
    "\n",
    "# Set options for fmincg\n",
    "#options = optimset('GradObj', 'on', 'MaxIter', 100)\n",
    "\n",
    "# Set Regularization\n",
    "Lambda = 10\n",
    "result = scipy.optimize.minimize(cofiCostFunc, initial_parameters, args=(Ynorm, R, num_users, num_movies, num_features,Lambda), method='CG', jac=True, options={'maxiter': 100})\n",
    "theta = result.x\n",
    "result"
   ]
  },
  {
   "cell_type": "code",
   "execution_count": 61,
   "metadata": {},
   "outputs": [
    {
     "name": "stdout",
     "output_type": "stream",
     "text": [
      "Recommender system learning completed.\n"
     ]
    }
   ],
   "source": [
    "# Unfold the returned theta back into U and W\n",
    "X = np.reshape(theta[0:num_movies*num_features], (num_movies, num_features))\n",
    "Theta = np.reshape(theta[num_movies*num_features:], (num_users, num_features))\n",
    "\n",
    "print('Recommender system learning completed.')"
   ]
  },
  {
   "cell_type": "code",
   "execution_count": 62,
   "metadata": {},
   "outputs": [
    {
     "data": {
      "text/plain": [
       "4.00050144834473"
      ]
     },
     "execution_count": 62,
     "metadata": {},
     "output_type": "execute_result"
    }
   ],
   "source": [
    "#predictions\n",
    "#TOY Story -> y[0,0] = 4\n",
    "X[0,:] @ Theta[0,:] + Ymean[0,0]"
   ]
  },
  {
   "cell_type": "code",
   "execution_count": 63,
   "metadata": {},
   "outputs": [
    {
     "data": {
      "text/plain": [
       "(1682, 944)"
      ]
     },
     "execution_count": 63,
     "metadata": {},
     "output_type": "execute_result"
    }
   ],
   "source": [
    "Y.shape"
   ]
  },
  {
   "cell_type": "code",
   "execution_count": 64,
   "metadata": {},
   "outputs": [
    {
     "data": {
      "text/plain": [
       "(1682,)"
      ]
     },
     "execution_count": 64,
     "metadata": {},
     "output_type": "execute_result"
    }
   ],
   "source": [
    "predictions = X @ Theta.T \n",
    "my_preds = (predictions + Ymean)[:,-1]\n",
    "my_preds.shape"
   ]
  },
  {
   "cell_type": "code",
   "execution_count": 65,
   "metadata": {},
   "outputs": [
    {
     "data": {
      "text/plain": [
       "array([5.35219691, 5.13501964, 5.00000337, 5.00000251, 5.00000185,\n",
       "       5.00000183, 5.00000126, 5.00000098, 5.00000007, 4.99999969])"
      ]
     },
     "execution_count": 65,
     "metadata": {},
     "output_type": "execute_result"
    }
   ],
   "source": [
    "sorted_preds = np.sort(my_preds, axis=0)[::-1]\n",
    "sorted_preds[:10]"
   ]
  },
  {
   "cell_type": "code",
   "execution_count": 66,
   "metadata": {},
   "outputs": [
    {
     "name": "stdout",
     "output_type": "stream",
     "text": [
      "Top 10 movie predictions:\n",
      "Predicted rating of 5.352196910470282 for movie Scream (1996).\n",
      "Predicted rating of 5.135019643802482 for movie Seven (Se7en) (1995).\n",
      "Predicted rating of 5.000003366382519 for movie Aiqing wansui (1994).\n",
      "Predicted rating of 5.0000025081680635 for movie Star Kid (1997).\n",
      "Predicted rating of 5.000001848465316 for movie They Made Me a Criminal (1939).\n",
      "Predicted rating of 5.000001825364127 for movie Santa with Muscles (1996).\n",
      "Predicted rating of 5.0000012584612605 for movie Great Day in Harlem, A (1994).\n",
      "Predicted rating of 5.000000982509244 for movie Prefontaine (1997).\n",
      "Predicted rating of 5.000000066117046 for movie Saint of Fort Washington, The (1993).\n",
      "Predicted rating of 4.999999692406174 for movie Entertaining Angels: The Dorothy Day Story (1996).\n"
     ]
    }
   ],
   "source": [
    "idx = np.argsort(my_preds, axis=0)[::-1]\n",
    "idx\n",
    "print(\"Top 10 movie predictions:\")\n",
    "for i in range(10):\n",
    "    j = int(idx[i])\n",
    "    print('Predicted rating of {0} for movie {1}.'.format(str(float(my_preds[j])), movieList[j]))"
   ]
  }
 ],
 "metadata": {
  "kernelspec": {
   "display_name": "Python 3",
   "language": "python",
   "name": "python3"
  },
  "language_info": {
   "codemirror_mode": {
    "name": "ipython",
    "version": 3
   },
   "file_extension": ".py",
   "mimetype": "text/x-python",
   "name": "python",
   "nbconvert_exporter": "python",
   "pygments_lexer": "ipython3",
   "version": "3.8.3"
  }
 },
 "nbformat": 4,
 "nbformat_minor": 4
}
