{
 "cells": [
  {
   "cell_type": "code",
   "execution_count": 1,
   "metadata": {},
   "outputs": [],
   "source": [
    "import numpy as np\n",
    "import matplotlib.pyplot as plt\n",
    "from scipy import optimize\n",
    "import scipy.io\n",
    "import os"
   ]
  },
  {
   "cell_type": "code",
   "execution_count": 2,
   "metadata": {},
   "outputs": [],
   "source": [
    "from sklearn import svm  #library to support vector machine"
   ]
  },
  {
   "cell_type": "code",
   "execution_count": 3,
   "metadata": {},
   "outputs": [
    {
     "data": {
      "text/plain": [
       "dict_keys(['__header__', '__version__', '__globals__', 'X', 'y'])"
      ]
     },
     "execution_count": 3,
     "metadata": {},
     "output_type": "execute_result"
    }
   ],
   "source": [
    "data = scipy.io.loadmat('Data/ex6data1.mat')\n",
    "data.keys()"
   ]
  },
  {
   "cell_type": "code",
   "execution_count": 4,
   "metadata": {},
   "outputs": [],
   "source": [
    "X = data['X']\n",
    "y = data['y']"
   ]
  },
  {
   "cell_type": "code",
   "execution_count": 5,
   "metadata": {},
   "outputs": [
    {
     "data": {
      "text/plain": [
       "array([[1.9643  , 4.5957  ],\n",
       "       [2.2753  , 3.8589  ],\n",
       "       [2.9781  , 4.5651  ],\n",
       "       [2.932   , 3.5519  ],\n",
       "       [3.5772  , 2.856   ],\n",
       "       [4.015   , 3.1937  ],\n",
       "       [3.3814  , 3.4291  ],\n",
       "       [3.9113  , 4.1761  ],\n",
       "       [2.7822  , 4.0431  ],\n",
       "       [2.5518  , 4.6162  ],\n",
       "       [3.3698  , 3.9101  ],\n",
       "       [3.1048  , 3.0709  ],\n",
       "       [1.9182  , 4.0534  ],\n",
       "       [2.2638  , 4.3706  ],\n",
       "       [2.6555  , 3.5008  ],\n",
       "       [3.1855  , 4.2888  ],\n",
       "       [3.6579  , 3.8692  ],\n",
       "       [3.9113  , 3.4291  ],\n",
       "       [3.6002  , 3.1221  ],\n",
       "       [3.0357  , 3.3165  ],\n",
       "       [1.5841  , 3.3575  ],\n",
       "       [2.0103  , 3.2039  ],\n",
       "       [1.9527  , 2.7843  ],\n",
       "       [2.2753  , 2.7127  ],\n",
       "       [2.3099  , 2.9584  ],\n",
       "       [2.8283  , 2.6309  ],\n",
       "       [3.0473  , 2.2931  ],\n",
       "       [2.4827  , 2.0373  ],\n",
       "       [2.5057  , 2.3853  ],\n",
       "       [1.8721  , 2.0577  ],\n",
       "       [2.0103  , 2.3546  ],\n",
       "       [1.2269  , 2.3239  ],\n",
       "       [1.8951  , 2.9174  ],\n",
       "       [1.561   , 3.0709  ],\n",
       "       [1.5495  , 2.6923  ],\n",
       "       [1.6878  , 2.4057  ],\n",
       "       [1.4919  , 2.0271  ],\n",
       "       [0.962   , 2.682   ],\n",
       "       [1.1693  , 2.9276  ],\n",
       "       [0.8122  , 2.9992  ],\n",
       "       [0.9735  , 3.3881  ],\n",
       "       [1.25    , 3.1937  ],\n",
       "       [1.3191  , 3.5109  ],\n",
       "       [2.2292  , 2.201   ],\n",
       "       [2.4482  , 2.6411  ],\n",
       "       [2.7938  , 1.9656  ],\n",
       "       [2.091   , 1.6177  ],\n",
       "       [2.5403  , 2.8867  ],\n",
       "       [0.9044  , 3.0198  ],\n",
       "       [0.76615 , 2.5899  ],\n",
       "       [0.086405, 4.1045  ]])"
      ]
     },
     "execution_count": 5,
     "metadata": {},
     "output_type": "execute_result"
    }
   ],
   "source": [
    "X"
   ]
  },
  {
   "cell_type": "code",
   "execution_count": 6,
   "metadata": {
    "scrolled": true
   },
   "outputs": [
    {
     "data": {
      "text/plain": [
       "array([[1],\n",
       "       [1],\n",
       "       [1],\n",
       "       [1],\n",
       "       [1],\n",
       "       [1],\n",
       "       [1],\n",
       "       [1],\n",
       "       [1],\n",
       "       [1],\n",
       "       [1],\n",
       "       [1],\n",
       "       [1],\n",
       "       [1],\n",
       "       [1],\n",
       "       [1],\n",
       "       [1],\n",
       "       [1],\n",
       "       [1],\n",
       "       [1],\n",
       "       [0],\n",
       "       [0],\n",
       "       [0],\n",
       "       [0],\n",
       "       [0],\n",
       "       [0],\n",
       "       [0],\n",
       "       [0],\n",
       "       [0],\n",
       "       [0],\n",
       "       [0],\n",
       "       [0],\n",
       "       [0],\n",
       "       [0],\n",
       "       [0],\n",
       "       [0],\n",
       "       [0],\n",
       "       [0],\n",
       "       [0],\n",
       "       [0],\n",
       "       [0],\n",
       "       [0],\n",
       "       [0],\n",
       "       [0],\n",
       "       [0],\n",
       "       [0],\n",
       "       [0],\n",
       "       [0],\n",
       "       [0],\n",
       "       [0],\n",
       "       [1]], dtype=uint8)"
      ]
     },
     "execution_count": 6,
     "metadata": {},
     "output_type": "execute_result"
    }
   ],
   "source": [
    "y"
   ]
  },
  {
   "cell_type": "code",
   "execution_count": 7,
   "metadata": {},
   "outputs": [
    {
     "data": {
      "text/plain": [
       "array([1, 1, 1, 1, 1, 1, 1, 1, 1, 1, 1, 1, 1, 1, 1, 1, 1, 1, 1, 1, 0, 0,\n",
       "       0, 0, 0, 0, 0, 0, 0, 0, 0, 0, 0, 0, 0, 0, 0, 0, 0, 0, 0, 0, 0, 0,\n",
       "       0, 0, 0, 0, 0, 0, 1], dtype=uint8)"
      ]
     },
     "execution_count": 7,
     "metadata": {},
     "output_type": "execute_result"
    }
   ],
   "source": [
    "y = y[:,0]\n",
    "y"
   ]
  },
  {
   "cell_type": "code",
   "execution_count": 8,
   "metadata": {},
   "outputs": [],
   "source": [
    "# pos = np.where(y == 1)\n",
    "# neg = np.where(y==0)\n",
    "pos = np.argwhere(y==1)\n",
    "neg = np.argwhere(y==0)"
   ]
  },
  {
   "cell_type": "code",
   "execution_count": 9,
   "metadata": {},
   "outputs": [
    {
     "data": {
      "text/plain": [
       "array([[ 0],\n",
       "       [ 1],\n",
       "       [ 2],\n",
       "       [ 3],\n",
       "       [ 4],\n",
       "       [ 5],\n",
       "       [ 6],\n",
       "       [ 7],\n",
       "       [ 8],\n",
       "       [ 9],\n",
       "       [10],\n",
       "       [11],\n",
       "       [12],\n",
       "       [13],\n",
       "       [14],\n",
       "       [15],\n",
       "       [16],\n",
       "       [17],\n",
       "       [18],\n",
       "       [19],\n",
       "       [50]], dtype=int64)"
      ]
     },
     "execution_count": 9,
     "metadata": {},
     "output_type": "execute_result"
    }
   ],
   "source": [
    "pos"
   ]
  },
  {
   "cell_type": "code",
   "execution_count": 10,
   "metadata": {},
   "outputs": [
    {
     "data": {
      "text/plain": [
       "(21, 1)"
      ]
     },
     "execution_count": 10,
     "metadata": {},
     "output_type": "execute_result"
    }
   ],
   "source": [
    "X[pos, 1].shape"
   ]
  },
  {
   "cell_type": "code",
   "execution_count": 11,
   "metadata": {
    "scrolled": true
   },
   "outputs": [
    {
     "data": {
      "text/plain": [
       "[<matplotlib.lines.Line2D at 0x1257889b3c8>]"
      ]
     },
     "execution_count": 11,
     "metadata": {},
     "output_type": "execute_result"
    },
    {
     "data": {
      "image/png": "[encoded data removed]",
      "text/plain": [
       "<Figure size 432x288 with 1 Axes>"
      ]
     },
     "metadata": {
      "needs_background": "light"
     },
     "output_type": "display_data"
    }
   ],
   "source": [
    "plt.plot(X[pos, 0], X[pos, 1], 'b+')\n",
    "plt.plot(X[neg, 0], X[neg, 1], 'yo')"
   ]
  },
  {
   "cell_type": "markdown",
   "metadata": {},
   "source": [
    "# Linear Kernel"
   ]
  },
  {
   "cell_type": "markdown",
   "metadata": {},
   "source": [
    "### $C = 1$"
   ]
  },
  {
   "cell_type": "code",
   "execution_count": 12,
   "metadata": {},
   "outputs": [
    {
     "data": {
      "text/plain": [
       "SVC(C=1.0, break_ties=False, cache_size=200, class_weight=None, coef0=0.0,\n",
       "    decision_function_shape='ovr', degree=3, gamma='scale', kernel='linear',\n",
       "    max_iter=-1, probability=False, random_state=None, shrinking=True,\n",
       "    tol=0.001, verbose=False)"
      ]
     },
     "execution_count": 12,
     "metadata": {},
     "output_type": "execute_result"
    }
   ],
   "source": [
    "penalty = 1.0  # SVM regularization parameter\n",
    "clf = svm.SVC(kernel='linear', C=penalty)\n",
    "clf.fit(X,y)"
   ]
  },
  {
   "cell_type": "code",
   "execution_count": 13,
   "metadata": {},
   "outputs": [
    {
     "data": {
      "text/plain": [
       "[<matplotlib.lines.Line2D at 0x1257bccbec8>]"
      ]
     },
     "execution_count": 13,
     "metadata": {},
     "output_type": "execute_result"
    },
    {
     "data": {
      "image/png": "[encoded data removed]",
      "text/plain": [
       "<Figure size 432x288 with 1 Axes>"
      ]
     },
     "metadata": {
      "needs_background": "light"
     },
     "output_type": "display_data"
    }
   ],
   "source": [
    "#data\n",
    "plt.plot(X[pos, 0], X[pos, 1], 'b+')\n",
    "plt.plot(X[neg, 0], X[neg, 1], 'ro')\n",
    "#large margin classifier\n",
    "w = clf.coef_[0]\n",
    "a = -w[0] / w[1]\n",
    "xx = np.linspace(0, 4.5)\n",
    "yy = a * xx - (clf.intercept_[0]) / w[1]\n",
    "plt.plot(xx, yy, 'k-')\n",
    "#upper line\n",
    "yy_minus = a * xx - (clf.intercept_[0] - 1) / w[1]\n",
    "plt.plot(xx, yy_minus, 'k--')\n",
    "#lower line\n",
    "yy_plus = a * xx - (clf.intercept_[0] + 1) / w[1]\n",
    "plt.plot(xx, yy_plus, 'k--')"
   ]
  },
  {
   "cell_type": "code",
   "execution_count": 14,
   "metadata": {},
   "outputs": [
    {
     "data": {
      "text/plain": [
       "array([1], dtype=uint8)"
      ]
     },
     "execution_count": 14,
     "metadata": {},
     "output_type": "execute_result"
    }
   ],
   "source": [
    "clf.predict(X[0:1,:])\n",
    "#clf.predict(X)"
   ]
  },
  {
   "cell_type": "markdown",
   "metadata": {},
   "source": [
    "### $C = 100$"
   ]
  },
  {
   "cell_type": "code",
   "execution_count": 15,
   "metadata": {
    "scrolled": true
   },
   "outputs": [
    {
     "data": {
      "text/plain": [
       "[<matplotlib.lines.Line2D at 0x1257bd55a88>]"
      ]
     },
     "execution_count": 15,
     "metadata": {},
     "output_type": "execute_result"
    },
    {
     "data": {
      "image/png": "[encoded data removed]",
      "text/plain": [
       "<Figure size 432x288 with 1 Axes>"
      ]
     },
     "metadata": {
      "needs_background": "light"
     },
     "output_type": "display_data"
    }
   ],
   "source": [
    "penalty = 100  # SVM regularization parameter\n",
    "clf = svm.SVC(kernel='linear', C=penalty)\n",
    "clf.fit(X,y)\n",
    "#data\n",
    "plt.plot(X[pos, 0], X[pos, 1], 'b+')\n",
    "plt.plot(X[neg, 0], X[neg, 1], 'ro')\n",
    "#large margin classifier\n",
    "w = clf.coef_[0]\n",
    "a = -w[0] / w[1]\n",
    "xx = np.linspace(0, 4.5)\n",
    "yy = a * xx - (clf.intercept_[0]) / w[1]\n",
    "plt.plot(xx, yy, 'k-')\n",
    "#upper line\n",
    "yy_minus = a * xx - (clf.intercept_[0] - 1) / w[1]\n",
    "plt.plot(xx, yy_minus, 'k--')\n",
    "#lower line\n",
    "yy_plus = a * xx - (clf.intercept_[0] + 1) / w[1]\n",
    "plt.plot(xx, yy_plus, 'k--')"
   ]
  },
  {
   "cell_type": "markdown",
   "metadata": {},
   "source": [
    "# Radial Basis Function (RBF)"
   ]
  },
  {
   "cell_type": "code",
   "execution_count": 16,
   "metadata": {},
   "outputs": [],
   "source": [
    "#Similarity Function\n",
    "def similarity(x, l, sigma):\n",
    "    K = np.exp(-0.5*np.linalg.norm(x - l)**2/sigma**2)\n",
    "    return K"
   ]
  },
  {
   "cell_type": "code",
   "execution_count": 17,
   "metadata": {},
   "outputs": [
    {
     "data": {
      "text/plain": [
       "0.32465246735834974"
      ]
     },
     "execution_count": 17,
     "metadata": {},
     "output_type": "execute_result"
    }
   ],
   "source": [
    "x1 = np.array([1.0, 2.0, 1.0])\n",
    "x2 = np.array([0.0, 4.0, -1.0])\n",
    "sigma = 2\n",
    "\n",
    "similarity(x1, x2, sigma)"
   ]
  },
  {
   "cell_type": "code",
   "execution_count": 18,
   "metadata": {},
   "outputs": [
    {
     "data": {
      "text/plain": [
       "1.0"
      ]
     },
     "execution_count": 18,
     "metadata": {},
     "output_type": "execute_result"
    }
   ],
   "source": [
    "penalty = 100  # SVM regularization parameter\n",
    "clf = svm.SVC(kernel='rbf', C=penalty, gamma=10)\n",
    "clf.fit(X,y)\n",
    "clf.score(X, y)"
   ]
  },
  {
   "cell_type": "code",
   "execution_count": 19,
   "metadata": {
    "scrolled": true
   },
   "outputs": [
    {
     "data": {
      "text/plain": [
       "<matplotlib.contour.QuadContourSet at 0x1257cd9cc48>"
      ]
     },
     "execution_count": 19,
     "metadata": {},
     "output_type": "execute_result"
    },
    {
     "data": {
      "image/png": "[encoded data removed]",
      "text/plain": [
       "<Figure size 432x288 with 1 Axes>"
      ]
     },
     "metadata": {
      "needs_background": "light"
     },
     "output_type": "display_data"
    }
   ],
   "source": [
    "#data\n",
    "plt.scatter(X[pos, 0], X[pos, 1], color='blue', marker = '+')\n",
    "plt.scatter(X[neg, 0], X[neg, 1], color = 'salmon', marker = '_')\n",
    "\n",
    "x_min, x_max = X[:, 0].min() - 1, X[:, 0].max() + 1\n",
    "y_min, y_max = X[:, 1].min() - 1, X[:, 1].max() + 1\n",
    "xx, yy = np.meshgrid(np.linspace(x_min, x_max, 100), np.linspace(y_min, y_max, 100))\n",
    "Z = clf.decision_function(np.c_[xx.ravel(), yy.ravel()]) #is a matrix of dimensions of xx and yy (same dimensions)\n",
    "Z = Z.reshape(xx.shape)\n",
    "#plt.contourf(xx, yy, Z, cmap=plt.cm.RdBu, levels = 2, alpha=0.5) #alpha is the color: 0 transparent, 1 opaque\n",
    "plt.contour(xx, yy, Z, levels = 2) "
   ]
  },
  {
   "cell_type": "code",
   "execution_count": 20,
   "metadata": {},
   "outputs": [
    {
     "data": {
      "text/plain": [
       "1.4817969191919191"
      ]
     },
     "execution_count": 20,
     "metadata": {},
     "output_type": "execute_result"
    }
   ],
   "source": [
    "xx[40,40]"
   ]
  },
  {
   "cell_type": "code",
   "execution_count": 21,
   "metadata": {},
   "outputs": [
    {
     "data": {
      "text/plain": [
       "2.637295959595959"
      ]
     },
     "execution_count": 21,
     "metadata": {},
     "output_type": "execute_result"
    }
   ],
   "source": [
    "yy[40,40]"
   ]
  },
  {
   "cell_type": "code",
   "execution_count": 22,
   "metadata": {},
   "outputs": [
    {
     "data": {
      "text/plain": [
       "-0.9754539620259135"
      ]
     },
     "execution_count": 22,
     "metadata": {},
     "output_type": "execute_result"
    }
   ],
   "source": [
    "Z[40, 40]"
   ]
  },
  {
   "cell_type": "markdown",
   "metadata": {},
   "source": [
    "# Second dataset"
   ]
  },
  {
   "cell_type": "code",
   "execution_count": 23,
   "metadata": {},
   "outputs": [
    {
     "data": {
      "text/plain": [
       "dict_keys(['__header__', '__version__', '__globals__', 'X', 'y'])"
      ]
     },
     "execution_count": 23,
     "metadata": {},
     "output_type": "execute_result"
    }
   ],
   "source": [
    "data2 = scipy.io.loadmat('Data/ex6Data2.mat')\n",
    "data2.keys()"
   ]
  },
  {
   "cell_type": "code",
   "execution_count": 24,
   "metadata": {},
   "outputs": [],
   "source": [
    "X = data2['X']\n",
    "y = data2['y']\n",
    "y = y[:,0]\n",
    "pos = np.argwhere(y==1)\n",
    "neg = np.argwhere(y==0)"
   ]
  },
  {
   "cell_type": "code",
   "execution_count": 25,
   "metadata": {},
   "outputs": [
    {
     "data": {
      "text/plain": [
       "<matplotlib.collections.PathCollection at 0x1257bd4ea08>"
      ]
     },
     "execution_count": 25,
     "metadata": {},
     "output_type": "execute_result"
    },
    {
     "data": {
      "image/png": "[encoded data removed]",
      "text/plain": [
       "<Figure size 432x288 with 1 Axes>"
      ]
     },
     "metadata": {
      "needs_background": "light"
     },
     "output_type": "display_data"
    }
   ],
   "source": [
    "plt.scatter(X[pos, 0], X[pos, 1], color='blue', marker = '+')\n",
    "plt.scatter(X[neg, 0], X[neg, 1], color = 'salmon', marker = 'o')"
   ]
  },
  {
   "cell_type": "code",
   "execution_count": 26,
   "metadata": {},
   "outputs": [
    {
     "data": {
      "text/plain": [
       "<matplotlib.contour.QuadContourSet at 0x1257ce76688>"
      ]
     },
     "execution_count": 26,
     "metadata": {},
     "output_type": "execute_result"
    },
    {
     "data": {
      "image/png": "[encoded data removed]",
      "text/plain": [
       "<Figure size 432x288 with 1 Axes>"
      ]
     },
     "metadata": {
      "needs_background": "light"
     },
     "output_type": "display_data"
    }
   ],
   "source": [
    "penalty = 100  # SVM regularization parameter\n",
    "clf = svm.SVC(kernel='rbf', C=penalty, gamma=10)\n",
    "clf.fit(X,y)\n",
    "#plot data\n",
    "plt.scatter(X[pos, 0], X[pos, 1], color='blue', marker = '+')\n",
    "plt.scatter(X[neg, 0], X[neg, 1], color = 'red', marker = '_')\n",
    "#plot boundary decision\n",
    "x_min, x_max = 0, 1\n",
    "y_min, y_max = 0.4, 1\n",
    "xx, yy = np.meshgrid(np.linspace(x_min, x_max, 100), np.linspace(y_min, y_max, 100))\n",
    "Z = clf.decision_function(np.c_[xx.ravel(), yy.ravel()]) #is a matrix of dimensions of xx and yy (same dimensions)\n",
    "Z = Z.reshape(xx.shape)\n",
    "#plt.contourf(xx, yy, Z, cmap=plt.cm.RdBu, levels = 0, alpha=0.5)\n",
    "plt.contour(xx, yy, Z, levels = 0, colors = 'black') \n",
    "#plt.pcolormesh(xx, yy, Z, cmap=plt.cm.RdBu)"
   ]
  },
  {
   "cell_type": "code",
   "execution_count": 27,
   "metadata": {},
   "outputs": [
    {
     "data": {
      "text/plain": [
       "0.9698725376593279"
      ]
     },
     "execution_count": 27,
     "metadata": {},
     "output_type": "execute_result"
    }
   ],
   "source": [
    "clf.score(X, y)"
   ]
  },
  {
   "cell_type": "markdown",
   "metadata": {},
   "source": [
    "# Third dataset"
   ]
  },
  {
   "cell_type": "code",
   "execution_count": 28,
   "metadata": {},
   "outputs": [
    {
     "data": {
      "text/plain": [
       "dict_keys(['__header__', '__version__', '__globals__', 'X', 'y', 'yval', 'Xval'])"
      ]
     },
     "execution_count": 28,
     "metadata": {},
     "output_type": "execute_result"
    }
   ],
   "source": [
    "data3 = scipy.io.loadmat('Data/ex6data3.mat')\n",
    "data3.keys()"
   ]
  },
  {
   "cell_type": "code",
   "execution_count": 29,
   "metadata": {},
   "outputs": [],
   "source": [
    "X = data3['X']\n",
    "y = data3['y']\n",
    "Xval = data3['Xval']\n",
    "yval = data3['yval']"
   ]
  },
  {
   "cell_type": "code",
   "execution_count": 30,
   "metadata": {},
   "outputs": [],
   "source": [
    "y = y[:,0]\n",
    "yval = yval[:,0]"
   ]
  },
  {
   "cell_type": "code",
   "execution_count": 31,
   "metadata": {},
   "outputs": [
    {
     "name": "stdout",
     "output_type": "stream",
     "text": [
      "training set size (211,)\n",
      "cross validation set size (200,)\n"
     ]
    }
   ],
   "source": [
    "print(f'training set size {y.shape}')\n",
    "print(f'cross validation set size {yval.shape}')"
   ]
  },
  {
   "cell_type": "code",
   "execution_count": 32,
   "metadata": {},
   "outputs": [],
   "source": [
    "C_subset = [0.01, 0.03, 0.05, 0.1, 0.5, 1, 2, 4, 8, 20, 50, 100]\n",
    "sigma_subset = [0.01, 0.03, 0.05, 0.1, 0.5, 1, 2, 4, 8, 20, 50, 100]"
   ]
  },
  {
   "cell_type": "code",
   "execution_count": 33,
   "metadata": {},
   "outputs": [
    {
     "name": "stdout",
     "output_type": "stream",
     "text": [
      "score cross validation = 0.965\n",
      "C, sigma = [ 1 50]\n"
     ]
    }
   ],
   "source": [
    "#there are len(C_subset) x len(sigma_subset) different models\n",
    "best_accuracy = 0\n",
    "for c in C_subset:\n",
    "    for sigma in sigma_subset:\n",
    "        #training data\n",
    "        clf = svm.SVC(kernel = 'rbf', C = c, gamma=sigma)\n",
    "        clf.fit(X, y)\n",
    "        \n",
    "        #cross-validation\n",
    "        actual_accuracy = clf.score(Xval, yval)\n",
    "        if actual_accuracy > best_accuracy:\n",
    "            best_accuracy = actual_accuracy\n",
    "            best_parameters = np.array([c, sigma])\n",
    "print(f'score cross validation = {best_accuracy}')\n",
    "print(f'C, sigma = {best_parameters}')"
   ]
  },
  {
   "cell_type": "code",
   "execution_count": 34,
   "metadata": {},
   "outputs": [
    {
     "data": {
      "text/plain": [
       "array([ 1, 50])"
      ]
     },
     "execution_count": 34,
     "metadata": {},
     "output_type": "execute_result"
    }
   ],
   "source": [
    "best_parameters"
   ]
  },
  {
   "cell_type": "code",
   "execution_count": 35,
   "metadata": {},
   "outputs": [
    {
     "name": "stdout",
     "output_type": "stream",
     "text": [
      "score cross validation = 0.9478672985781991\n"
     ]
    },
    {
     "data": {
      "text/plain": [
       "<matplotlib.contour.QuadContourSet at 0x1257cf0a208>"
      ]
     },
     "execution_count": 35,
     "metadata": {},
     "output_type": "execute_result"
    },
    {
     "data": {
      "image/png": "[encoded data removed]",
      "text/plain": [
       "<Figure size 432x288 with 1 Axes>"
      ]
     },
     "metadata": {
      "needs_background": "light"
     },
     "output_type": "display_data"
    }
   ],
   "source": [
    "#plot boundary decision\n",
    "clf = svm.SVC(kernel='rbf', C=best_parameters[0], gamma=best_parameters[1])\n",
    "clf.fit(X,y)\n",
    "print(f'score cross validation = {clf.score(X,y)}')\n",
    "#plot data\n",
    "pos = np.argwhere(y==1)\n",
    "neg = np.argwhere(y==0)\n",
    "plt.scatter(X[pos, 0], X[pos, 1], color='blue', marker = '+')\n",
    "plt.scatter(X[neg, 0], X[neg, 1], color = 'red', marker = '_')\n",
    "#plot boundary decision\n",
    "x1_min, x1_max = np.min(X[:,0]) - np.abs(np.min(X[:,0]))/10, np.max(X[:,0]) + np.abs(np.max(X[:,0]))/10\n",
    "x2_min, x2_max = np.min(X[:,1]) - np.abs(np.min(X[:,1]))/10, np.max(X[:,1]) + np.abs(np.max(X[:,1]))/10\n",
    "#x1_min, x1_max = np.min(X[:,0]), np.max(X[:,0]) #0.4 \n",
    "#x2_min, x2_max = np.min(X[:,1]), np.max(X[:,1]) #0.6\n",
    "xx, yy = np.meshgrid(np.linspace(x1_min, x1_max, 100), np.linspace(x2_min, x2_max, 100))\n",
    "Z = clf.decision_function(np.c_[xx.ravel(), yy.ravel()]) #is a matrix of dimensions of xx and yy (same dimensions)\n",
    "Z = Z.reshape(xx.shape)\n",
    "plt.contour(xx, yy, Z, levels = 0, colors = 'black') "
   ]
  },
  {
   "cell_type": "markdown",
   "metadata": {},
   "source": [
    "# Spam Classification"
   ]
  },
  {
   "cell_type": "code",
   "execution_count": 36,
   "metadata": {
    "scrolled": true
   },
   "outputs": [
    {
     "data": {
      "text/plain": [
       "['emailSample1.txt',\n",
       " 'emailSample2.txt',\n",
       " 'ex6data1.mat',\n",
       " 'ex6data2.mat',\n",
       " 'ex6data3.mat',\n",
       " 'spamSample1.txt',\n",
       " 'spamSample2.txt',\n",
       " 'spamTest.mat',\n",
       " 'spamTrain.mat',\n",
       " 'vocab.txt']"
      ]
     },
     "execution_count": 36,
     "metadata": {},
     "output_type": "execute_result"
    }
   ],
   "source": [
    "os.listdir('Data')"
   ]
  },
  {
   "cell_type": "code",
   "execution_count": 37,
   "metadata": {},
   "outputs": [],
   "source": [
    "import pandas as pd"
   ]
  },
  {
   "cell_type": "code",
   "execution_count": 38,
   "metadata": {},
   "outputs": [
    {
     "data": {
      "text/html": [
       "<div>\n",
       "<style scoped>\n",
       "    .dataframe tbody tr th:only-of-type {\n",
       "        vertical-align: middle;\n",
       "    }\n",
       "\n",
       "    .dataframe tbody tr th {\n",
       "        vertical-align: top;\n",
       "    }\n",
       "\n",
       "    .dataframe thead th {\n",
       "        text-align: right;\n",
       "    }\n",
       "</style>\n",
       "<table border=\"1\" class=\"dataframe\">\n",
       "  <thead>\n",
       "    <tr style=\"text-align: right;\">\n",
       "      <th></th>\n",
       "      <th>index</th>\n",
       "      <th>word</th>\n",
       "    </tr>\n",
       "  </thead>\n",
       "  <tbody>\n",
       "    <tr>\n",
       "      <th>0</th>\n",
       "      <td>1</td>\n",
       "      <td>aa</td>\n",
       "    </tr>\n",
       "    <tr>\n",
       "      <th>1</th>\n",
       "      <td>2</td>\n",
       "      <td>ab</td>\n",
       "    </tr>\n",
       "    <tr>\n",
       "      <th>2</th>\n",
       "      <td>3</td>\n",
       "      <td>abil</td>\n",
       "    </tr>\n",
       "    <tr>\n",
       "      <th>3</th>\n",
       "      <td>4</td>\n",
       "      <td>abl</td>\n",
       "    </tr>\n",
       "    <tr>\n",
       "      <th>4</th>\n",
       "      <td>5</td>\n",
       "      <td>about</td>\n",
       "    </tr>\n",
       "    <tr>\n",
       "      <th>...</th>\n",
       "      <td>...</td>\n",
       "      <td>...</td>\n",
       "    </tr>\n",
       "    <tr>\n",
       "      <th>1894</th>\n",
       "      <td>1895</td>\n",
       "      <td>your</td>\n",
       "    </tr>\n",
       "    <tr>\n",
       "      <th>1895</th>\n",
       "      <td>1896</td>\n",
       "      <td>yourself</td>\n",
       "    </tr>\n",
       "    <tr>\n",
       "      <th>1896</th>\n",
       "      <td>1897</td>\n",
       "      <td>zdnet</td>\n",
       "    </tr>\n",
       "    <tr>\n",
       "      <th>1897</th>\n",
       "      <td>1898</td>\n",
       "      <td>zero</td>\n",
       "    </tr>\n",
       "    <tr>\n",
       "      <th>1898</th>\n",
       "      <td>1899</td>\n",
       "      <td>zip</td>\n",
       "    </tr>\n",
       "  </tbody>\n",
       "</table>\n",
       "<p>1899 rows × 2 columns</p>\n",
       "</div>"
      ],
      "text/plain": [
       "      index      word\n",
       "0         1        aa\n",
       "1         2        ab\n",
       "2         3      abil\n",
       "3         4       abl\n",
       "4         5     about\n",
       "...     ...       ...\n",
       "1894   1895      your\n",
       "1895   1896  yourself\n",
       "1896   1897     zdnet\n",
       "1897   1898      zero\n",
       "1898   1899       zip\n",
       "\n",
       "[1899 rows x 2 columns]"
      ]
     },
     "execution_count": 38,
     "metadata": {},
     "output_type": "execute_result"
    }
   ],
   "source": [
    "vocab = pd.read_csv('Data/vocab.txt', names = ['index', 'word'], sep='\\t')\n",
    "vocab"
   ]
  },
  {
   "cell_type": "code",
   "execution_count": 39,
   "metadata": {},
   "outputs": [
    {
     "data": {
      "text/html": [
       "<div>\n",
       "<style scoped>\n",
       "    .dataframe tbody tr th:only-of-type {\n",
       "        vertical-align: middle;\n",
       "    }\n",
       "\n",
       "    .dataframe tbody tr th {\n",
       "        vertical-align: top;\n",
       "    }\n",
       "\n",
       "    .dataframe thead th {\n",
       "        text-align: right;\n",
       "    }\n",
       "</style>\n",
       "<table border=\"1\" class=\"dataframe\">\n",
       "  <thead>\n",
       "    <tr style=\"text-align: right;\">\n",
       "      <th></th>\n",
       "      <th>index</th>\n",
       "      <th>word</th>\n",
       "    </tr>\n",
       "  </thead>\n",
       "  <tbody>\n",
       "    <tr>\n",
       "      <th>0</th>\n",
       "      <td>0</td>\n",
       "      <td>aa</td>\n",
       "    </tr>\n",
       "    <tr>\n",
       "      <th>1</th>\n",
       "      <td>1</td>\n",
       "      <td>ab</td>\n",
       "    </tr>\n",
       "    <tr>\n",
       "      <th>2</th>\n",
       "      <td>2</td>\n",
       "      <td>abil</td>\n",
       "    </tr>\n",
       "    <tr>\n",
       "      <th>3</th>\n",
       "      <td>3</td>\n",
       "      <td>abl</td>\n",
       "    </tr>\n",
       "    <tr>\n",
       "      <th>4</th>\n",
       "      <td>4</td>\n",
       "      <td>about</td>\n",
       "    </tr>\n",
       "    <tr>\n",
       "      <th>...</th>\n",
       "      <td>...</td>\n",
       "      <td>...</td>\n",
       "    </tr>\n",
       "    <tr>\n",
       "      <th>1894</th>\n",
       "      <td>1894</td>\n",
       "      <td>your</td>\n",
       "    </tr>\n",
       "    <tr>\n",
       "      <th>1895</th>\n",
       "      <td>1895</td>\n",
       "      <td>yourself</td>\n",
       "    </tr>\n",
       "    <tr>\n",
       "      <th>1896</th>\n",
       "      <td>1896</td>\n",
       "      <td>zdnet</td>\n",
       "    </tr>\n",
       "    <tr>\n",
       "      <th>1897</th>\n",
       "      <td>1897</td>\n",
       "      <td>zero</td>\n",
       "    </tr>\n",
       "    <tr>\n",
       "      <th>1898</th>\n",
       "      <td>1898</td>\n",
       "      <td>zip</td>\n",
       "    </tr>\n",
       "  </tbody>\n",
       "</table>\n",
       "<p>1899 rows × 2 columns</p>\n",
       "</div>"
      ],
      "text/plain": [
       "      index      word\n",
       "0         0        aa\n",
       "1         1        ab\n",
       "2         2      abil\n",
       "3         3       abl\n",
       "4         4     about\n",
       "...     ...       ...\n",
       "1894   1894      your\n",
       "1895   1895  yourself\n",
       "1896   1896     zdnet\n",
       "1897   1897      zero\n",
       "1898   1898       zip\n",
       "\n",
       "[1899 rows x 2 columns]"
      ]
     },
     "execution_count": 39,
     "metadata": {},
     "output_type": "execute_result"
    }
   ],
   "source": [
    "vocab['index'] = vocab['index'] - 1\n",
    "vocab"
   ]
  },
  {
   "cell_type": "code",
   "execution_count": 40,
   "metadata": {},
   "outputs": [
    {
     "data": {
      "text/plain": [
       "array([['1', 'aa'],\n",
       "       ['2', 'ab'],\n",
       "       ['3', 'abil'],\n",
       "       ...,\n",
       "       ['1897', 'zdnet'],\n",
       "       ['1898', 'zero'],\n",
       "       ['1899', 'zip']], dtype='<U40')"
      ]
     },
     "execution_count": 40,
     "metadata": {},
     "output_type": "execute_result"
    }
   ],
   "source": [
    "data_loadtxt = np.genfromtxt('Data/vocab.txt', dtype='str') #np.loadtxt doesn't work with stings\n",
    "data_loadtxt"
   ]
  },
  {
   "cell_type": "code",
   "execution_count": 41,
   "metadata": {},
   "outputs": [
    {
     "data": {
      "text/plain": [
       "dict_keys(['__header__', '__version__', '__globals__', 'X', 'y'])"
      ]
     },
     "execution_count": 41,
     "metadata": {},
     "output_type": "execute_result"
    }
   ],
   "source": [
    "spamTrain = scipy.io.loadmat('Data/spamTrain.mat')\n",
    "spamTest  = scipy.io.loadmat('Data/spamTest.mat')\n",
    "spamTrain.keys()"
   ]
  },
  {
   "cell_type": "code",
   "execution_count": 42,
   "metadata": {},
   "outputs": [],
   "source": [
    "X = spamTrain['X'] #i should create X and y using the emails\n",
    "y = spamTrain['y']\n",
    "Xtest = spamTest['Xtest']\n",
    "ytest = spamTest['ytest']"
   ]
  },
  {
   "cell_type": "code",
   "execution_count": 43,
   "metadata": {},
   "outputs": [],
   "source": [
    "y = y[:,0]\n",
    "ytest = ytest[:,0]"
   ]
  },
  {
   "cell_type": "code",
   "execution_count": 44,
   "metadata": {},
   "outputs": [
    {
     "data": {
      "text/plain": [
       "(4000, 1899)"
      ]
     },
     "execution_count": 44,
     "metadata": {},
     "output_type": "execute_result"
    }
   ],
   "source": [
    "#map vocabulary list into work indices for sample email\n",
    "X.shape"
   ]
  },
  {
   "cell_type": "code",
   "execution_count": 45,
   "metadata": {},
   "outputs": [
    {
     "name": "stdout",
     "output_type": "stream",
     "text": [
      "training accuracy = 99.825%\n",
      "test accuracy = 98.9%\n"
     ]
    }
   ],
   "source": [
    "clf = svm.SVC(kernel = 'linear', C=0.1)\n",
    "clf.fit(X,y)\n",
    "training_accuracy = clf.score(X, y)\n",
    "test_accuracy = clf.score(Xtest, ytest)\n",
    "print(f'training accuracy = {training_accuracy*100}%')\n",
    "print(f'test accuracy = {test_accuracy*100}%')"
   ]
  }
 ],
 "metadata": {
  "kernelspec": {
   "display_name": "Python 3",
   "language": "python",
   "name": "python3"
  },
  "language_info": {
   "codemirror_mode": {
    "name": "ipython",
    "version": 3
   },
   "file_extension": ".py",
   "mimetype": "text/x-python",
   "name": "python",
   "nbconvert_exporter": "python",
   "pygments_lexer": "ipython3",
   "version": "3.7.7"
  }
 },
 "nbformat": 4,
 "nbformat_minor": 4
}
