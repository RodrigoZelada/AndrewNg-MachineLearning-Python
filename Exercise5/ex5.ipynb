{
 "cells": [
  {
   "cell_type": "code",
   "execution_count": 1,
   "metadata": {},
   "outputs": [],
   "source": [
    "import numpy as np\n",
    "import matplotlib.pyplot as plt\n",
    "from scipy import optimize\n",
    "import scipy.io"
   ]
  },
  {
   "cell_type": "markdown",
   "metadata": {},
   "source": [
    "# Regularized Linear Regression"
   ]
  },
  {
   "cell_type": "code",
   "execution_count": 2,
   "metadata": {},
   "outputs": [
    {
     "data": {
      "text/plain": [
       "dict_keys(['__header__', '__version__', '__globals__', 'X', 'y', 'Xtest', 'ytest', 'Xval', 'yval'])"
      ]
     },
     "execution_count": 2,
     "metadata": {},
     "output_type": "execute_result"
    }
   ],
   "source": [
    "data = scipy.io.loadmat('Data/ex5Data1.mat')\n",
    "data.keys()"
   ]
  },
  {
   "cell_type": "code",
   "execution_count": 3,
   "metadata": {},
   "outputs": [],
   "source": [
    "#training set\n",
    "X = data['X']\n",
    "y = data['y']\n",
    "y = y[:,0] #np.squeeze(y)\n",
    "\n",
    "#cross validation set\n",
    "Xval = data['Xval']\n",
    "yval = data['yval']\n",
    "yval = yval[:,0]\n",
    "\n",
    "#test set\n",
    "Xtest = data['Xtest']\n",
    "ytest = data['ytest']\n",
    "ytest = ytest[:,0]"
   ]
  },
  {
   "cell_type": "code",
   "execution_count": 4,
   "metadata": {
    "scrolled": true
   },
   "outputs": [
    {
     "name": "stdout",
     "output_type": "stream",
     "text": [
      "number of training examples: 12\n",
      "number of cross validation examples: 21\n",
      "number of test examples: 21\n"
     ]
    }
   ],
   "source": [
    "print(f'number of training examples: {y.size}')\n",
    "print(f'number of cross validation examples: {yval.size}')\n",
    "print(f'number of test examples: {ytest.size}')"
   ]
  },
  {
   "cell_type": "markdown",
   "metadata": {},
   "source": [
    "$$\\displaystyle{J(\\theta) = \\sum_{t=1}^m (h_{\\theta}(x^{(t)}) - y^{(t)})^2 + \\lambda \\sum_{j=1}^n \\theta_j ^2}$$\n",
    "$$\\displaystyle{\\frac{\\partial J(\\theta)}{\\partial \\theta_0} = \\frac{1}{m}\\sum_{t=1}^m (h_{\\theta}(x^{(t)}) - y^{(t)})x_j ^{(t)}} \\quad \\text{if} \\quad j=0$$\n",
    "$$\\displaystyle{\\frac{\\partial J(\\theta)}{\\partial \\theta_j} = \\frac{1}{m}\\sum_{t=1}^m (h_{\\theta}(x^{(t)}) - y^{(t)})x_j ^{(t)} + \\frac{\\lambda}{m}\\theta_j} \\quad \\text{if} \\quad j\\geq1$$"
   ]
  },
  {
   "cell_type": "code",
   "execution_count": 5,
   "metadata": {},
   "outputs": [],
   "source": [
    "def linearRegCostFunction(theta, X, y, Lambda):\n",
    "    m = y.shape[0]\n",
    "    X = np.concatenate((np.ones((m, 1)), X), axis=1)\n",
    "    h_theta = X@theta\n",
    "    \n",
    "    #cost function\n",
    "    costTerm = (np.linalg.norm(h_theta - y))**2\n",
    "    regularizationTerm = Lambda*((np.linalg.norm(theta[1:]))**2)\n",
    "    J = (costTerm + regularizationTerm)/(2*m) \n",
    "    \n",
    "    #grad\n",
    "    error = h_theta - y\n",
    "    grad_0 = np.array([(X[:,0]@error)/m])\n",
    "    grad_1 = (X[:,1:].T@error + Lambda*theta[1:])/m\n",
    "    #grad = np.array([grad_0, grad_1])\n",
    "    grad = np.concatenate((grad_0, grad_1))\n",
    "    return J, grad"
   ]
  },
  {
   "cell_type": "code",
   "execution_count": 6,
   "metadata": {},
   "outputs": [],
   "source": [
    "initial_theta = np.array([1,1])\n",
    "Lambda = 1\n",
    "J, grad = linearRegCostFunction(initial_theta, X, y, Lambda)"
   ]
  },
  {
   "cell_type": "code",
   "execution_count": 7,
   "metadata": {
    "scrolled": true
   },
   "outputs": [
    {
     "data": {
      "text/plain": [
       "(303.99319222026423, array([-15.30301567, 598.25074417]))"
      ]
     },
     "execution_count": 7,
     "metadata": {},
     "output_type": "execute_result"
    }
   ],
   "source": [
    "J, grad"
   ]
  },
  {
   "cell_type": "code",
   "execution_count": 8,
   "metadata": {},
   "outputs": [],
   "source": [
    "def train_linear_regression(X, y, Lambda):\n",
    "    n = X.shape[1] + 1\n",
    "    initial_theta = np.ones(n)\n",
    "    res = optimize.minimize(linearRegCostFunction, x0=initial_theta, args = (X,y,Lambda), method='CG', jac=True,options={'maxiter': 250})\n",
    "    theta = res.x\n",
    "    return theta     "
   ]
  },
  {
   "cell_type": "code",
   "execution_count": 9,
   "metadata": {},
   "outputs": [
    {
     "data": {
      "text/plain": [
       "array([13.08790734,  0.36777925])"
      ]
     },
     "execution_count": 9,
     "metadata": {},
     "output_type": "execute_result"
    }
   ],
   "source": [
    "#solve and plot\n",
    "theta = train_linear_regression(X,y, 0)\n",
    "theta"
   ]
  },
  {
   "cell_type": "code",
   "execution_count": 10,
   "metadata": {
    "scrolled": true
   },
   "outputs": [
    {
     "data": {
      "text/plain": [
       "<matplotlib.legend.Legend at 0x2bba72def48>"
      ]
     },
     "execution_count": 10,
     "metadata": {},
     "output_type": "execute_result"
    },
    {
     "data": {
      "image/png": "[encoded data removed]",
      "text/plain": [
       "<Figure size 432x288 with 1 Axes>"
      ]
     },
     "metadata": {
      "needs_background": "light"
     },
     "output_type": "display_data"
    }
   ],
   "source": [
    "plt.plot(X, y,'x', color='red')\n",
    "x = np.linspace(-50,40,1000)\n",
    "x = np.stack((np.ones((x.shape[0])),x), axis=1)\n",
    "h_theta = x@theta\n",
    "plt.plot(x[:,1],h_theta,'-', color='blue')\n",
    "plt.xlabel('Change in water level (x)')\n",
    "plt.ylabel('Water flowing out of the dam (y)')\n",
    "plt.legend(['Data training', 'Linear regression prediction'])"
   ]
  },
  {
   "cell_type": "markdown",
   "metadata": {},
   "source": [
    "# Bias Variance "
   ]
  },
  {
   "cell_type": "code",
   "execution_count": 11,
   "metadata": {},
   "outputs": [],
   "source": [
    "def learningCurve(X,y, Xval, yval, Lambda):\n",
    "    Lambda=0\n",
    "    m = y.shape[0]\n",
    "    #m_val = yval.shape[0]\n",
    "    error_train = np.zeros(m)\n",
    "    error_val = np.zeros(m)\n",
    "    for t in range(1,m+1): #t=1,...,m\n",
    "        Xt = X[0:t,:]\n",
    "        yt = y[0:t]\n",
    "        thetat = train_linear_regression(Xt,yt, Lambda)\n",
    "        error_train[t-1],_ = linearRegCostFunction(thetat, Xt, yt, 0)\n",
    "#         Xvalt = Xval[0:t,:]\n",
    "#         yvalt = yval[0:t]\n",
    "        #the cross validation data have fix size, the size which change it's from trainig set,\n",
    "        #and therefore act modifying the theta fitted. Using this theta fitted (without modifying cross\n",
    "        #validation set), it's computed the error validation\n",
    "        error_val[t-1],_ = linearRegCostFunction(thetat, Xval, yval, 0) #linearRegCostFunction(thetat, Xvalt, yvalt, 0)\n",
    "    return error_train, error_val"
   ]
  },
  {
   "cell_type": "code",
   "execution_count": 12,
   "metadata": {},
   "outputs": [
    {
     "data": {
      "text/plain": [
       "<matplotlib.legend.Legend at 0x2bba7702a88>"
      ]
     },
     "execution_count": 12,
     "metadata": {},
     "output_type": "execute_result"
    },
    {
     "data": {
      "image/png": "[encoded data removed]",
      "text/plain": [
       "<Figure size 432x288 with 1 Axes>"
      ]
     },
     "metadata": {
      "needs_background": "light"
     },
     "output_type": "display_data"
    }
   ],
   "source": [
    "error_train, error_val = learningCurve(X,y, Xval, yval, Lambda)\n",
    "m = y.shape[0]\n",
    "plt.plot(np.arange(1,m+1), error_train, '-', color='blue')\n",
    "plt.plot(np.arange(1,m+1), error_val, '-', color='green')\n",
    "plt.xlabel('Number of training examples')\n",
    "plt.ylabel('Error')\n",
    "plt.legend(['Train', 'Cross validation'])\n",
    "#UNDERFITING (HIGH BIAS)"
   ]
  },
  {
   "cell_type": "markdown",
   "metadata": {},
   "source": [
    "# Polynomial Regression"
   ]
  },
  {
   "cell_type": "code",
   "execution_count": 13,
   "metadata": {},
   "outputs": [],
   "source": [
    "def polyFeatures(X, p):\n",
    "    return X**np.arange(1,p+1)"
   ]
  },
  {
   "cell_type": "code",
   "execution_count": 14,
   "metadata": {},
   "outputs": [
    {
     "data": {
      "text/plain": [
       "array([[-1.59367581e+01,  2.53980260e+02, -4.04762197e+03,\n",
       "         6.45059724e+04, -1.02801608e+06,  1.63832436e+07,\n",
       "        -2.61095791e+08,  4.16102047e+09],\n",
       "       [-2.91529792e+01,  8.49896197e+02, -2.47770062e+04,\n",
       "         7.22323546e+05, -2.10578833e+07,  6.13900035e+08,\n",
       "        -1.78970150e+10,  5.21751305e+11],\n",
       "       [ 3.61895486e+01,  1.30968343e+03,  4.73968522e+04,\n",
       "         1.71527069e+06,  6.20748719e+07,  2.24646160e+09,\n",
       "         8.12984311e+10,  2.94215353e+12],\n",
       "       [ 3.74921873e+01,  1.40566411e+03,  5.27014222e+04,\n",
       "         1.97589159e+06,  7.40804977e+07,  2.77743990e+09,\n",
       "         1.04132297e+11,  3.90414759e+12],\n",
       "       [-4.80588295e+01,  2.30965109e+03, -1.10999128e+05,\n",
       "         5.33448815e+06, -2.56369256e+08,  1.23208064e+10,\n",
       "        -5.92123532e+11,  2.84567638e+13],\n",
       "       [-8.94145794e+00,  7.99496701e+01, -7.14866612e+02,\n",
       "         6.39194974e+03, -5.71533498e+04,  5.11034273e+05,\n",
       "        -4.56939146e+06,  4.08570215e+07],\n",
       "       [ 1.53077929e+01,  2.34328523e+02,  3.58705250e+03,\n",
       "         5.49098568e+04,  8.40548715e+05,  1.28669456e+07,\n",
       "         1.96964539e+08,  3.01509237e+09],\n",
       "       [-3.47062658e+01,  1.20452489e+03, -4.18045609e+04,\n",
       "         1.45088020e+06, -5.03546340e+07,  1.74762131e+09,\n",
       "        -6.06534098e+10,  2.10505336e+12],\n",
       "       [ 1.38915437e+00,  1.92974986e+00,  2.68072045e+00,\n",
       "         3.72393452e+00,  5.17311991e+00,  7.18626212e+00,\n",
       "         9.98282742e+00,  1.38676883e+01],\n",
       "       [-4.43837599e+01,  1.96991814e+03, -8.74323736e+04,\n",
       "         3.88057747e+06, -1.72234619e+08,  7.64441995e+09,\n",
       "        -3.39288099e+11,  1.50588815e+13],\n",
       "       [ 7.01350208e+00,  4.91892115e+01,  3.44988637e+02,\n",
       "         2.41957852e+03,  1.69697190e+04,  1.19017160e+05,\n",
       "         8.34727097e+05,  5.85436023e+06],\n",
       "       [ 2.27627489e+01,  5.18142738e+02,  1.17943531e+04,\n",
       "         2.68471897e+05,  6.11115839e+06,  1.39106764e+08,\n",
       "         3.16645234e+09,  7.20771597e+10]])"
      ]
     },
     "execution_count": 14,
     "metadata": {},
     "output_type": "execute_result"
    }
   ],
   "source": [
    "p = 8\n",
    "X_poly = polyFeatures(X,p)\n",
    "X_poly"
   ]
  },
  {
   "cell_type": "code",
   "execution_count": 15,
   "metadata": {},
   "outputs": [
    {
     "data": {
      "text/plain": [
       "array([3.74921873e+01, 2.30965109e+03, 5.27014222e+04, 5.33448815e+06,\n",
       "       7.40804977e+07, 1.23208064e+10, 1.04132297e+11, 2.84567638e+13])"
      ]
     },
     "execution_count": 15,
     "metadata": {},
     "output_type": "execute_result"
    }
   ],
   "source": [
    "np.max(X_poly, axis=0)"
   ]
  },
  {
   "cell_type": "code",
   "execution_count": 16,
   "metadata": {},
   "outputs": [
    {
     "data": {
      "text/plain": [
       "array([[-5.08542635e+00,  8.48904834e+02, -1.28290173e+04,\n",
       "         1.28967789e+06, -2.98314592e+07,  2.29330301e+09,\n",
       "        -6.84527284e+10,  4.42233759e+12],\n",
       "       [-5.08542635e+00,  8.48904834e+02, -1.28290173e+04,\n",
       "         1.28967789e+06, -2.98314592e+07,  2.29330301e+09,\n",
       "        -6.84527284e+10,  4.42233759e+12],\n",
       "       [-5.08542635e+00,  8.48904834e+02, -1.28290173e+04,\n",
       "         1.28967789e+06, -2.98314592e+07,  2.29330301e+09,\n",
       "        -6.84527284e+10,  4.42233759e+12],\n",
       "       [-5.08542635e+00,  8.48904834e+02, -1.28290173e+04,\n",
       "         1.28967789e+06, -2.98314592e+07,  2.29330301e+09,\n",
       "        -6.84527284e+10,  4.42233759e+12],\n",
       "       [-5.08542635e+00,  8.48904834e+02, -1.28290173e+04,\n",
       "         1.28967789e+06, -2.98314592e+07,  2.29330301e+09,\n",
       "        -6.84527284e+10,  4.42233759e+12],\n",
       "       [-5.08542635e+00,  8.48904834e+02, -1.28290173e+04,\n",
       "         1.28967789e+06, -2.98314592e+07,  2.29330301e+09,\n",
       "        -6.84527284e+10,  4.42233759e+12],\n",
       "       [-5.08542635e+00,  8.48904834e+02, -1.28290173e+04,\n",
       "         1.28967789e+06, -2.98314592e+07,  2.29330301e+09,\n",
       "        -6.84527284e+10,  4.42233759e+12],\n",
       "       [-5.08542635e+00,  8.48904834e+02, -1.28290173e+04,\n",
       "         1.28967789e+06, -2.98314592e+07,  2.29330301e+09,\n",
       "        -6.84527284e+10,  4.42233759e+12],\n",
       "       [-5.08542635e+00,  8.48904834e+02, -1.28290173e+04,\n",
       "         1.28967789e+06, -2.98314592e+07,  2.29330301e+09,\n",
       "        -6.84527284e+10,  4.42233759e+12],\n",
       "       [-5.08542635e+00,  8.48904834e+02, -1.28290173e+04,\n",
       "         1.28967789e+06, -2.98314592e+07,  2.29330301e+09,\n",
       "        -6.84527284e+10,  4.42233759e+12],\n",
       "       [-5.08542635e+00,  8.48904834e+02, -1.28290173e+04,\n",
       "         1.28967789e+06, -2.98314592e+07,  2.29330301e+09,\n",
       "        -6.84527284e+10,  4.42233759e+12],\n",
       "       [-5.08542635e+00,  8.48904834e+02, -1.28290173e+04,\n",
       "         1.28967789e+06, -2.98314592e+07,  2.29330301e+09,\n",
       "        -6.84527284e+10,  4.42233759e+12]])"
      ]
     },
     "execution_count": 16,
     "metadata": {},
     "output_type": "execute_result"
    }
   ],
   "source": [
    "np.mean(X_poly, axis=0)*np.ones((m,1))"
   ]
  },
  {
   "cell_type": "code",
   "execution_count": 17,
   "metadata": {},
   "outputs": [
    {
     "data": {
      "text/plain": [
       "array([[2.86887308e+01, 7.54346385e+02, 4.61380464e+04, 1.66104441e+06,\n",
       "        8.99399404e+07, 3.68940106e+09, 1.89508052e+11, 8.31905350e+12],\n",
       "       [2.86887308e+01, 7.54346385e+02, 4.61380464e+04, 1.66104441e+06,\n",
       "        8.99399404e+07, 3.68940106e+09, 1.89508052e+11, 8.31905350e+12],\n",
       "       [2.86887308e+01, 7.54346385e+02, 4.61380464e+04, 1.66104441e+06,\n",
       "        8.99399404e+07, 3.68940106e+09, 1.89508052e+11, 8.31905350e+12],\n",
       "       [2.86887308e+01, 7.54346385e+02, 4.61380464e+04, 1.66104441e+06,\n",
       "        8.99399404e+07, 3.68940106e+09, 1.89508052e+11, 8.31905350e+12],\n",
       "       [2.86887308e+01, 7.54346385e+02, 4.61380464e+04, 1.66104441e+06,\n",
       "        8.99399404e+07, 3.68940106e+09, 1.89508052e+11, 8.31905350e+12],\n",
       "       [2.86887308e+01, 7.54346385e+02, 4.61380464e+04, 1.66104441e+06,\n",
       "        8.99399404e+07, 3.68940106e+09, 1.89508052e+11, 8.31905350e+12],\n",
       "       [2.86887308e+01, 7.54346385e+02, 4.61380464e+04, 1.66104441e+06,\n",
       "        8.99399404e+07, 3.68940106e+09, 1.89508052e+11, 8.31905350e+12],\n",
       "       [2.86887308e+01, 7.54346385e+02, 4.61380464e+04, 1.66104441e+06,\n",
       "        8.99399404e+07, 3.68940106e+09, 1.89508052e+11, 8.31905350e+12],\n",
       "       [2.86887308e+01, 7.54346385e+02, 4.61380464e+04, 1.66104441e+06,\n",
       "        8.99399404e+07, 3.68940106e+09, 1.89508052e+11, 8.31905350e+12],\n",
       "       [2.86887308e+01, 7.54346385e+02, 4.61380464e+04, 1.66104441e+06,\n",
       "        8.99399404e+07, 3.68940106e+09, 1.89508052e+11, 8.31905350e+12],\n",
       "       [2.86887308e+01, 7.54346385e+02, 4.61380464e+04, 1.66104441e+06,\n",
       "        8.99399404e+07, 3.68940106e+09, 1.89508052e+11, 8.31905350e+12],\n",
       "       [2.86887308e+01, 7.54346385e+02, 4.61380464e+04, 1.66104441e+06,\n",
       "        8.99399404e+07, 3.68940106e+09, 1.89508052e+11, 8.31905350e+12]])"
      ]
     },
     "execution_count": 17,
     "metadata": {},
     "output_type": "execute_result"
    }
   ],
   "source": [
    "np.std(X_poly, axis=0)*np.ones((12,1))"
   ]
  },
  {
   "cell_type": "code",
   "execution_count": 18,
   "metadata": {},
   "outputs": [],
   "source": [
    "def normalizeFeature(X):\n",
    "    m = X.shape[0]\n",
    "    Max_by_rows = np.max(X_poly, axis=0) #px1\n",
    "    Min_by_rows = np.min(X_poly, axis=0) #px1\n",
    "    X_normalized = (X - np.mean(X_poly, axis=0)*np.ones((m,1)))/np.std(X_poly, axis=0)*np.ones((m,1))\n",
    "    return X_normalized"
   ]
  },
  {
   "cell_type": "code",
   "execution_count": 19,
   "metadata": {
    "scrolled": false
   },
   "outputs": [
    {
     "data": {
      "text/plain": [
       "array([[-3.78243704e-01, -7.88662325e-01,  1.90328720e-01,\n",
       "        -7.37591303e-01,  3.20251970e-01, -6.17151602e-01,\n",
       "         3.59835014e-01, -5.31091256e-01],\n",
       "       [-8.38920100e-01,  1.31420204e-03, -2.58961742e-01,\n",
       "        -3.41564822e-01,  9.75492734e-02, -4.55196644e-01,\n",
       "         2.66773432e-01, -4.68873807e-01],\n",
       "       [ 1.43871736e+00,  6.10831582e-01,  1.30534069e+00,\n",
       "         2.56220001e-01,  1.02186338e+00, -1.26962121e-02,\n",
       "         7.90210009e-01, -1.77926980e-01],\n",
       "       [ 1.48412330e+00,  7.38068463e-01,  1.42031240e+00,\n",
       "         4.13121830e-01,  1.15534830e+00,  1.31223708e-01,\n",
       "         9.10700224e-01, -6.22895388e-02],\n",
       "       [-1.49791929e+00,  1.93643966e+00, -2.12774745e+00,\n",
       "         2.43510061e+00, -2.51876748e+00,  2.71792174e+00,\n",
       "        -2.76331690e+00,  2.88908182e+00],\n",
       "       [-1.34409278e-01, -1.01936614e+00,  2.62563148e-01,\n",
       "        -7.72577738e-01,  3.31046537e-01, -6.21453712e-01,\n",
       "         3.61188658e-01, -5.31586524e-01],\n",
       "       [ 7.10844248e-01, -8.14713668e-01,  3.55803314e-01,\n",
       "        -7.43368461e-01,  3.41027665e-01, -6.18104683e-01,\n",
       "         3.62252117e-01, -5.31229003e-01],\n",
       "       [-1.03249041e+00,  4.71428060e-01, -6.28018432e-01,\n",
       "         9.70487696e-02, -2.28187552e-01, -1.47905228e-01,\n",
       "         4.11556057e-02, -2.78551428e-01],\n",
       "       [ 2.25683763e-01, -1.12279332e+00,  2.78115330e-01,\n",
       "        -7.76423647e-01,  3.31682056e-01, -6.21592224e-01,\n",
       "         3.61212770e-01, -5.31591435e-01],\n",
       "       [-1.36981778e+00,  1.48607235e+00, -1.61695958e+00,\n",
       "         1.55980151e+00, -1.58331392e+00,  1.45040261e+00,\n",
       "        -1.42914967e+00,  1.27857621e+00],\n",
       "       [ 4.21731046e-01, -1.06014377e+00,  2.85534542e-01,\n",
       "        -7.74969228e-01,  3.31870677e-01, -6.21559967e-01,\n",
       "         3.61217175e-01, -5.31590732e-01],\n",
       "       [ 9.70700848e-01, -4.38475085e-01,  5.33689054e-01,\n",
       "        -6.14797521e-01,  3.99629101e-01, -5.83887796e-01,\n",
       "         3.77921571e-01, -5.22927330e-01]])"
      ]
     },
     "execution_count": 19,
     "metadata": {},
     "output_type": "execute_result"
    }
   ],
   "source": [
    "X_normalized_poly = normalizeFeature(X_poly)\n",
    "X_normalized_poly"
   ]
  },
  {
   "cell_type": "code",
   "execution_count": 21,
   "metadata": {},
   "outputs": [
    {
     "data": {
      "text/plain": [
       "(12, 8)"
      ]
     },
     "execution_count": 21,
     "metadata": {},
     "output_type": "execute_result"
    }
   ],
   "source": [
    "X_normalized_poly.shape"
   ]
  },
  {
   "cell_type": "code",
   "execution_count": 40,
   "metadata": {},
   "outputs": [
    {
     "data": {
      "text/plain": [
       "<matplotlib.legend.Legend at 0x2bba7abcd08>"
      ]
     },
     "execution_count": 40,
     "metadata": {},
     "output_type": "execute_result"
    },
    {
     "data": {
      "image/png": "[encoded data removed]",
      "text/plain": [
       "<Figure size 432x288 with 1 Axes>"
      ]
     },
     "metadata": {
      "needs_background": "light"
     },
     "output_type": "display_data"
    }
   ],
   "source": [
    "theta = train_linear_regression(X_normalized_poly, y, 0)\n",
    "plt.plot(X, y,'x', color='red')\n",
    "x_vec = np.linspace(-60,60,1000)\n",
    "x = x_vec[:,np.newaxis]\n",
    "x = normalizeFeature(polyFeatures(x,p))\n",
    "x = np.concatenate((np.ones((x.shape[0],1)),x), axis=1)\n",
    "h_theta = x@theta\n",
    "plt.plot(x_vec, h_theta,'-', color='blue')\n",
    "plt.xlabel('Change in water level (x)')\n",
    "plt.ylabel('Water flowing out of the dam (y)')\n",
    "plt.legend(['Data training', 'Linear regression prediction'])"
   ]
  },
  {
   "cell_type": "code",
   "execution_count": 45,
   "metadata": {
    "scrolled": false
   },
   "outputs": [
    {
     "data": {
      "text/plain": [
       "<matplotlib.legend.Legend at 0x2bba8c63c08>"
      ]
     },
     "execution_count": 45,
     "metadata": {},
     "output_type": "execute_result"
    },
    {
     "data": {
      "image/png": "[encoded data removed]",
      "text/plain": [
       "<Figure size 432x288 with 1 Axes>"
      ]
     },
     "metadata": {
      "needs_background": "light"
     },
     "output_type": "display_data"
    }
   ],
   "source": [
    "Xval_normalized_poly = normalizeFeature(polyFeatures(Xval,p))\n",
    "error_train, error_val = learningCurve(X_normalized_poly,y, Xval_normalized_poly, yval, 0)\n",
    "plt.plot(np.arange(1,m+1), error_train, '-', color='blue')\n",
    "plt.plot(np.arange(1,m+1), error_val, '-', color='green')\n",
    "plt.xlabel('Number of training examples')\n",
    "plt.ylabel('Error')\n",
    "plt.legend(['Train', 'Cross validation'])\n",
    "#OVERFITTING (HIGH VARIANCE)"
   ]
  },
  {
   "cell_type": "markdown",
   "metadata": {},
   "source": [
    "### $\\lambda=1$"
   ]
  },
  {
   "cell_type": "code",
   "execution_count": 46,
   "metadata": {},
   "outputs": [
    {
     "data": {
      "text/plain": [
       "<matplotlib.legend.Legend at 0x2bba8caec88>"
      ]
     },
     "execution_count": 46,
     "metadata": {},
     "output_type": "execute_result"
    },
    {
     "data": {
      "image/png": "[encoded data removed]",
      "text/plain": [
       "<Figure size 432x288 with 1 Axes>"
      ]
     },
     "metadata": {
      "needs_background": "light"
     },
     "output_type": "display_data"
    }
   ],
   "source": [
    "Lambda = 1\n",
    "theta = train_linear_regression(X_normalized_poly, y, Lambda)\n",
    "plt.plot(X, y,'x', color='red')\n",
    "x_vec = np.linspace(-60,60,1000)\n",
    "x = x_vec[:,np.newaxis]\n",
    "x = normalizeFeature(polyFeatures(x,p))\n",
    "x = np.concatenate((np.ones((x.shape[0],1)),x), axis=1)\n",
    "h_theta = x@theta\n",
    "plt.plot(x_vec, h_theta,'-', color='blue')\n",
    "plt.xlabel('Change in water level (x)')\n",
    "plt.ylabel('Water flowing out of the dam (y)')\n",
    "plt.legend(['Data training', 'Linear regression prediction'])"
   ]
  },
  {
   "cell_type": "code",
   "execution_count": 48,
   "metadata": {},
   "outputs": [
    {
     "data": {
      "text/plain": [
       "<matplotlib.legend.Legend at 0x2bba7985488>"
      ]
     },
     "execution_count": 48,
     "metadata": {},
     "output_type": "execute_result"
    },
    {
     "data": {
      "image/png": "[encoded data removed]",
      "text/plain": [
       "<Figure size 432x288 with 1 Axes>"
      ]
     },
     "metadata": {
      "needs_background": "light"
     },
     "output_type": "display_data"
    }
   ],
   "source": [
    "Xval_normalized_poly = normalizeFeature(polyFeatures(Xval,p))\n",
    "error_train, error_val = learningCurve(X_normalized_poly,y, Xval_normalized_poly, yval, Lambda)\n",
    "plt.plot(np.arange(1,m+1), error_train, '-', color='blue')\n",
    "plt.plot(np.arange(1,m+1), error_val, '-', color='green')\n",
    "plt.xlabel('Number of training examples')\n",
    "plt.ylabel('Error')\n",
    "plt.legend(['Train', 'Cross validation'])\n",
    "#OVERFITTING (HIGH VARIANCE)"
   ]
  },
  {
   "cell_type": "markdown",
   "metadata": {},
   "source": [
    "### $\\lambda = 100$"
   ]
  },
  {
   "cell_type": "code",
   "execution_count": 49,
   "metadata": {},
   "outputs": [
    {
     "data": {
      "text/plain": [
       "<matplotlib.legend.Legend at 0x2bba8ccebc8>"
      ]
     },
     "execution_count": 49,
     "metadata": {},
     "output_type": "execute_result"
    },
    {
     "data": {
      "image/png": "[encoded data removed]",
      "text/plain": [
       "<Figure size 432x288 with 1 Axes>"
      ]
     },
     "metadata": {
      "needs_background": "light"
     },
     "output_type": "display_data"
    }
   ],
   "source": [
    "Lambda = 100\n",
    "theta = train_linear_regression(X_normalized_poly, y, Lambda)\n",
    "plt.plot(X, y,'x', color='red')\n",
    "x_vec = np.linspace(-60,60,1000)\n",
    "x = x_vec[:,np.newaxis]\n",
    "x = normalizeFeature(polyFeatures(x,p))\n",
    "x = np.concatenate((np.ones((x.shape[0],1)),x), axis=1)\n",
    "h_theta = x@theta\n",
    "plt.plot(x_vec, h_theta,'-', color='blue')\n",
    "plt.xlabel('Change in water level (x)')\n",
    "plt.ylabel('Water flowing out of the dam (y)')\n",
    "plt.legend(['Data training', 'Linear regression prediction'])\n",
    "#Underfitting"
   ]
  },
  {
   "cell_type": "code",
   "execution_count": 50,
   "metadata": {},
   "outputs": [
    {
     "data": {
      "text/plain": [
       "<matplotlib.legend.Legend at 0x2bba8d79e48>"
      ]
     },
     "execution_count": 50,
     "metadata": {},
     "output_type": "execute_result"
    },
    {
     "data": {
      "image/png": "[encoded data removed]",
      "text/plain": [
       "<Figure size 432x288 with 1 Axes>"
      ]
     },
     "metadata": {
      "needs_background": "light"
     },
     "output_type": "display_data"
    }
   ],
   "source": [
    "Xval_normalized_poly = normalizeFeature(polyFeatures(Xval,p))\n",
    "error_train, error_val = learningCurve(X_normalized_poly,y, Xval_normalized_poly, yval, Lambda)\n",
    "plt.plot(np.arange(1,m+1), error_train, '-', color='blue')\n",
    "plt.plot(np.arange(1,m+1), error_val, '-', color='green')\n",
    "plt.xlabel('Number of training examples')\n",
    "plt.ylabel('Error')\n",
    "plt.legend(['Train', 'Cross validation'])\n",
    "#OVERFITTING (HIGH VARIANCE)"
   ]
  },
  {
   "cell_type": "markdown",
   "metadata": {},
   "source": [
    "## Selecting $\\lambda$ using a cross validation set"
   ]
  },
  {
   "cell_type": "code",
   "execution_count": 55,
   "metadata": {},
   "outputs": [],
   "source": [
    "LAMBDAS = [0, 0.001, 0.003, 0.01, 0.03, 0.1, 0.3, 1, 3, 10]\n",
    "n_lambdas = len(LAMBDAS)\n",
    "theta_lambda = np.zeros(n_lambdas)\n",
    "error_train_lambda = np.zeros(n_lambdas)\n",
    "error_val_lambda = np.zeros(n_lambdas)"
   ]
  },
  {
   "cell_type": "code",
   "execution_count": 60,
   "metadata": {},
   "outputs": [
    {
     "data": {
      "text/plain": [
       "[<matplotlib.lines.Line2D at 0x2bba8e1ca08>]"
      ]
     },
     "execution_count": 60,
     "metadata": {},
     "output_type": "execute_result"
    },
    {
     "data": {
      "image/png": "[encoded data removed]",
      "text/plain": [
       "<Figure size 432x288 with 1 Axes>"
      ]
     },
     "metadata": {
      "needs_background": "light"
     },
     "output_type": "display_data"
    }
   ],
   "source": [
    "for i,Lambda in enumerate(LAMBDAS):\n",
    "    theta_lambda = train_linear_regression(X_normalized_poly, y, Lambda)\n",
    "    error_train_lambda[i],_ = linearRegCostFunction(theta_lambda, X_normalized_poly, y, 0)\n",
    "    error_val_lambda[i],_ = linearRegCostFunction(theta_lambda, Xval_normalized_poly, yval, 0)\n",
    "plt.plot(LAMBDAS, error_train_lambda, linestyle = '-', color = 'blue')\n",
    "plt.plot(LAMBDAS, error_val_lambda, linestyle = '-', color = 'green')\n",
    "#the best choice of lambda seem to be around lambda = 3"
   ]
  },
  {
   "cell_type": "markdown",
   "metadata": {},
   "source": [
    "# Test error"
   ]
  },
  {
   "cell_type": "code",
   "execution_count": 62,
   "metadata": {},
   "outputs": [
    {
     "data": {
      "text/plain": [
       "3.5720432230877046"
      ]
     },
     "execution_count": 62,
     "metadata": {},
     "output_type": "execute_result"
    }
   ],
   "source": [
    "Lambda = 3\n",
    "theta_opt = train_linear_regression(X_normalized_poly, y, Lambda)\n",
    "TestError,_ = linearRegCostFunction(theta_opt, normalizeFeature(polyFeatures(Xtest,p)), ytest, 0)\n",
    "TestError"
   ]
  }
 ],
 "metadata": {
  "kernelspec": {
   "display_name": "Python 3",
   "language": "python",
   "name": "python3"
  },
  "language_info": {
   "codemirror_mode": {
    "name": "ipython",
    "version": 3
   },
   "file_extension": ".py",
   "mimetype": "text/x-python",
   "name": "python",
   "nbconvert_exporter": "python",
   "pygments_lexer": "ipython3",
   "version": "3.7.7"
  }
 },
 "nbformat": 4,
 "nbformat_minor": 4
}
